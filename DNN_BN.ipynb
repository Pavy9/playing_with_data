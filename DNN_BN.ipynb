{
 "cells": [
  {
   "cell_type": "code",
   "execution_count": 12,
   "id": "f2e8e3e3",
   "metadata": {},
   "outputs": [],
   "source": [
    "import requests , time \n",
    "import pandas as pd\n",
    "from datetime import datetime\n",
    "def datetotime(date):\n",
    "  time_tuple=date.timetuple()\n",
    "  timestamp=round(time.mktime (time_tuple))\n",
    "  return timestamp\n",
    "start=datetotime(datetime(2019,1,1))\n",
    "end =datetotime(datetime.today())\n",
    "\n",
    "\n"
   ]
  },
  {
   "cell_type": "code",
   "execution_count": 13,
   "id": "c44d89d1",
   "metadata": {},
   "outputs": [],
   "source": [
    "url=\"https://priceapi.moneycontrol.com/techCharts/history?symbol=23&resolution=15&from=\"+str(start)+\"&to=\" +str(end)"
   ]
  },
  {
   "cell_type": "code",
   "execution_count": 14,
   "id": "2938ed79",
   "metadata": {},
   "outputs": [
    {
     "data": {
      "text/plain": [
       "'https://priceapi.moneycontrol.com/techCharts/history?symbol=23&resolution=15&from=1546281000&to=1663236882'"
      ]
     },
     "execution_count": 14,
     "metadata": {},
     "output_type": "execute_result"
    }
   ],
   "source": [
    "url"
   ]
  },
  {
   "cell_type": "code",
   "execution_count": 16,
   "id": "de1b401b",
   "metadata": {},
   "outputs": [],
   "source": [
    "resp =requests.get(url).json()\n"
   ]
  },
  {
   "cell_type": "code",
   "execution_count": 17,
   "id": "3e1132c3",
   "metadata": {},
   "outputs": [],
   "source": [
    "data =pd.DataFrame(resp) \n",
    "def timetodate(timestamp):\n",
    "  return datetime.fromtimestamp(timestamp)\n",
    "data[\"date\"] = data[\"t\"].apply (lambda x : timetodate(x))\n",
    "data.drop ([\"t\",\"s\"],axis=1,inplace=True)\n",
    "data.rename(columns={'o':\"open\",'h':'high','l':'low','c':'close','v':'volume'},inplace=True)\n",
    "data.index=data[\"date\"]"
   ]
  },
  {
   "cell_type": "code",
   "execution_count": 18,
   "id": "d91ed879",
   "metadata": {},
   "outputs": [
    {
     "name": "stderr",
     "output_type": "stream",
     "text": [
      "2022-09-15 15:47:01.626160: I tensorflow/core/platform/cpu_feature_guard.cc:193] This TensorFlow binary is optimized with oneAPI Deep Neural Network Library (oneDNN) to use the following CPU instructions in performance-critical operations:  AVX2 FMA\n",
      "To enable them in other operations, rebuild TensorFlow with the appropriate compiler flags.\n",
      "2022-09-15 15:47:08.088535: W tensorflow/stream_executor/platform/default/dso_loader.cc:64] Could not load dynamic library 'libcudart.so.11.0'; dlerror: libcudart.so.11.0: cannot open shared object file: No such file or directory\n",
      "2022-09-15 15:47:08.088653: I tensorflow/stream_executor/cuda/cudart_stub.cc:29] Ignore above cudart dlerror if you do not have a GPU set up on your machine.\n",
      "2022-09-15 15:47:08.684141: E tensorflow/stream_executor/cuda/cuda_blas.cc:2981] Unable to register cuBLAS factory: Attempting to register factory for plugin cuBLAS when one has already been registered\n",
      "2022-09-15 15:47:21.250857: W tensorflow/stream_executor/platform/default/dso_loader.cc:64] Could not load dynamic library 'libnvinfer.so.7'; dlerror: libnvinfer.so.7: cannot open shared object file: No such file or directory\n",
      "2022-09-15 15:47:21.251182: W tensorflow/stream_executor/platform/default/dso_loader.cc:64] Could not load dynamic library 'libnvinfer_plugin.so.7'; dlerror: libnvinfer_plugin.so.7: cannot open shared object file: No such file or directory\n",
      "2022-09-15 15:47:21.251206: W tensorflow/compiler/tf2tensorrt/utils/py_utils.cc:38] TF-TRT Warning: Cannot dlopen some TensorRT libraries. If you would like to use Nvidia GPU with TensorRT, please make sure the missing libraries mentioned above are installed properly.\n"
     ]
    },
    {
     "name": "stdout",
     "output_type": "stream",
     "text": [
      "2.10.0\n"
     ]
    }
   ],
   "source": [
    "import matplotlib.pyplot as plt\n",
    "import numpy as np\n",
    "import pandas as pd\n",
    "import seaborn as sns\n",
    "\n",
    "# Make NumPy printouts easier to read.\n",
    "np.set_printoptions(precision=3, suppress=True)\n",
    "import tensorflow as tf\n",
    "\n",
    "from tensorflow import keras\n",
    "from tensorflow.keras import layers\n",
    "\n",
    "print(tf.__version__)"
   ]
  },
  {
   "cell_type": "code",
   "execution_count": 19,
   "id": "b1aa4bde",
   "metadata": {},
   "outputs": [
    {
     "data": {
      "text/html": [
       "<div>\n",
       "<style scoped>\n",
       "    .dataframe tbody tr th:only-of-type {\n",
       "        vertical-align: middle;\n",
       "    }\n",
       "\n",
       "    .dataframe tbody tr th {\n",
       "        vertical-align: top;\n",
       "    }\n",
       "\n",
       "    .dataframe thead th {\n",
       "        text-align: right;\n",
       "    }\n",
       "</style>\n",
       "<table border=\"1\" class=\"dataframe\">\n",
       "  <thead>\n",
       "    <tr style=\"text-align: right;\">\n",
       "      <th></th>\n",
       "      <th>open</th>\n",
       "      <th>high</th>\n",
       "      <th>low</th>\n",
       "      <th>close</th>\n",
       "      <th>volume</th>\n",
       "      <th>date</th>\n",
       "    </tr>\n",
       "    <tr>\n",
       "      <th>date</th>\n",
       "      <th></th>\n",
       "      <th></th>\n",
       "      <th></th>\n",
       "      <th></th>\n",
       "      <th></th>\n",
       "      <th></th>\n",
       "    </tr>\n",
       "  </thead>\n",
       "  <tbody>\n",
       "    <tr>\n",
       "      <th>2021-09-15 09:15:00</th>\n",
       "      <td>36543.55</td>\n",
       "      <td>36620.50</td>\n",
       "      <td>36498.95</td>\n",
       "      <td>36542.65</td>\n",
       "      <td>0</td>\n",
       "      <td>2021-09-15 09:15:00</td>\n",
       "    </tr>\n",
       "    <tr>\n",
       "      <th>2021-09-15 09:30:00</th>\n",
       "      <td>36541.30</td>\n",
       "      <td>36608.00</td>\n",
       "      <td>36541.30</td>\n",
       "      <td>36573.45</td>\n",
       "      <td>0</td>\n",
       "      <td>2021-09-15 09:30:00</td>\n",
       "    </tr>\n",
       "    <tr>\n",
       "      <th>2021-09-15 09:45:00</th>\n",
       "      <td>36571.65</td>\n",
       "      <td>36600.30</td>\n",
       "      <td>36549.70</td>\n",
       "      <td>36594.65</td>\n",
       "      <td>0</td>\n",
       "      <td>2021-09-15 09:45:00</td>\n",
       "    </tr>\n",
       "    <tr>\n",
       "      <th>2021-09-15 10:00:00</th>\n",
       "      <td>36597.80</td>\n",
       "      <td>36648.65</td>\n",
       "      <td>36592.10</td>\n",
       "      <td>36617.90</td>\n",
       "      <td>0</td>\n",
       "      <td>2021-09-15 10:00:00</td>\n",
       "    </tr>\n",
       "    <tr>\n",
       "      <th>2021-09-15 10:15:00</th>\n",
       "      <td>36618.25</td>\n",
       "      <td>36655.95</td>\n",
       "      <td>36584.95</td>\n",
       "      <td>36613.20</td>\n",
       "      <td>0</td>\n",
       "      <td>2021-09-15 10:15:00</td>\n",
       "    </tr>\n",
       "    <tr>\n",
       "      <th>...</th>\n",
       "      <td>...</td>\n",
       "      <td>...</td>\n",
       "      <td>...</td>\n",
       "      <td>...</td>\n",
       "      <td>...</td>\n",
       "      <td>...</td>\n",
       "    </tr>\n",
       "    <tr>\n",
       "      <th>2022-09-15 14:30:00</th>\n",
       "      <td>41406.95</td>\n",
       "      <td>41521.15</td>\n",
       "      <td>41402.50</td>\n",
       "      <td>41467.00</td>\n",
       "      <td>0</td>\n",
       "      <td>2022-09-15 14:30:00</td>\n",
       "    </tr>\n",
       "    <tr>\n",
       "      <th>2022-09-15 14:45:00</th>\n",
       "      <td>41465.15</td>\n",
       "      <td>41465.15</td>\n",
       "      <td>41313.35</td>\n",
       "      <td>41313.35</td>\n",
       "      <td>0</td>\n",
       "      <td>2022-09-15 14:45:00</td>\n",
       "    </tr>\n",
       "    <tr>\n",
       "      <th>2022-09-15 15:00:00</th>\n",
       "      <td>41310.90</td>\n",
       "      <td>41330.90</td>\n",
       "      <td>41168.70</td>\n",
       "      <td>41203.50</td>\n",
       "      <td>0</td>\n",
       "      <td>2022-09-15 15:00:00</td>\n",
       "    </tr>\n",
       "    <tr>\n",
       "      <th>2022-09-15 15:15:00</th>\n",
       "      <td>41200.35</td>\n",
       "      <td>41227.90</td>\n",
       "      <td>41167.00</td>\n",
       "      <td>41208.45</td>\n",
       "      <td>0</td>\n",
       "      <td>2022-09-15 15:15:00</td>\n",
       "    </tr>\n",
       "    <tr>\n",
       "      <th>2022-09-15 15:30:00</th>\n",
       "      <td>41199.00</td>\n",
       "      <td>41199.00</td>\n",
       "      <td>41199.00</td>\n",
       "      <td>41199.00</td>\n",
       "      <td>0</td>\n",
       "      <td>2022-09-15 15:30:00</td>\n",
       "    </tr>\n",
       "  </tbody>\n",
       "</table>\n",
       "<p>6472 rows × 6 columns</p>\n",
       "</div>"
      ],
      "text/plain": [
       "                         open      high       low     close  volume  \\\n",
       "date                                                                  \n",
       "2021-09-15 09:15:00  36543.55  36620.50  36498.95  36542.65       0   \n",
       "2021-09-15 09:30:00  36541.30  36608.00  36541.30  36573.45       0   \n",
       "2021-09-15 09:45:00  36571.65  36600.30  36549.70  36594.65       0   \n",
       "2021-09-15 10:00:00  36597.80  36648.65  36592.10  36617.90       0   \n",
       "2021-09-15 10:15:00  36618.25  36655.95  36584.95  36613.20       0   \n",
       "...                       ...       ...       ...       ...     ...   \n",
       "2022-09-15 14:30:00  41406.95  41521.15  41402.50  41467.00       0   \n",
       "2022-09-15 14:45:00  41465.15  41465.15  41313.35  41313.35       0   \n",
       "2022-09-15 15:00:00  41310.90  41330.90  41168.70  41203.50       0   \n",
       "2022-09-15 15:15:00  41200.35  41227.90  41167.00  41208.45       0   \n",
       "2022-09-15 15:30:00  41199.00  41199.00  41199.00  41199.00       0   \n",
       "\n",
       "                                   date  \n",
       "date                                     \n",
       "2021-09-15 09:15:00 2021-09-15 09:15:00  \n",
       "2021-09-15 09:30:00 2021-09-15 09:30:00  \n",
       "2021-09-15 09:45:00 2021-09-15 09:45:00  \n",
       "2021-09-15 10:00:00 2021-09-15 10:00:00  \n",
       "2021-09-15 10:15:00 2021-09-15 10:15:00  \n",
       "...                                 ...  \n",
       "2022-09-15 14:30:00 2022-09-15 14:30:00  \n",
       "2022-09-15 14:45:00 2022-09-15 14:45:00  \n",
       "2022-09-15 15:00:00 2022-09-15 15:00:00  \n",
       "2022-09-15 15:15:00 2022-09-15 15:15:00  \n",
       "2022-09-15 15:30:00 2022-09-15 15:30:00  \n",
       "\n",
       "[6472 rows x 6 columns]"
      ]
     },
     "execution_count": 19,
     "metadata": {},
     "output_type": "execute_result"
    }
   ],
   "source": [
    "data"
   ]
  },
  {
   "cell_type": "code",
   "execution_count": 20,
   "id": "6670b2f2",
   "metadata": {},
   "outputs": [],
   "source": [
    "dataset = data.copy()\n",
    "train_dataset = dataset.sample(frac=0.8, random_state=0)\n",
    "test_dataset = dataset.drop(train_dataset.index)\n",
    "train_features = train_dataset.copy()\n",
    "test_features = test_dataset.copy()\n",
    "\n",
    "train_labels = train_features.pop('close')\n",
    "test_labels = test_features.pop('close')"
   ]
  },
  {
   "cell_type": "code",
   "execution_count": 21,
   "id": "7798f8e5",
   "metadata": {},
   "outputs": [],
   "source": [
    "normalizer = tf.keras.layers.Normalization(axis=-1)"
   ]
  },
  {
   "cell_type": "code",
   "execution_count": 22,
   "id": "bef6c308",
   "metadata": {},
   "outputs": [],
   "source": [
    "train_features.drop(\"date\",axis=1,inplace=True)\n",
    "train_features=np.asarray(train_features).astype('float32')\n",
    "train_labels=np.asarray(train_labels).astype('float32')"
   ]
  },
  {
   "cell_type": "code",
   "execution_count": 23,
   "id": "5b9f2099",
   "metadata": {},
   "outputs": [
    {
     "name": "stderr",
     "output_type": "stream",
     "text": [
      "2022-09-15 15:47:37.016872: W tensorflow/stream_executor/platform/default/dso_loader.cc:64] Could not load dynamic library 'libcuda.so.1'; dlerror: libcuda.so.1: cannot open shared object file: No such file or directory\n",
      "2022-09-15 15:47:37.026740: W tensorflow/stream_executor/cuda/cuda_driver.cc:263] failed call to cuInit: UNKNOWN ERROR (303)\n",
      "2022-09-15 15:47:37.026892: I tensorflow/stream_executor/cuda/cuda_diagnostics.cc:156] kernel driver does not appear to be running on this host (pavan-HP-15-Notebook-PC): /proc/driver/nvidia/version does not exist\n",
      "2022-09-15 15:47:37.043670: I tensorflow/core/platform/cpu_feature_guard.cc:193] This TensorFlow binary is optimized with oneAPI Deep Neural Network Library (oneDNN) to use the following CPU instructions in performance-critical operations:  AVX2 FMA\n",
      "To enable them in other operations, rebuild TensorFlow with the appropriate compiler flags.\n"
     ]
    }
   ],
   "source": [
    "normalizer.adapt(np.array(train_features))"
   ]
  },
  {
   "cell_type": "code",
   "execution_count": 24,
   "id": "7d0b8352",
   "metadata": {},
   "outputs": [],
   "source": [
    "def build_and_compile_model(norm):\n",
    "  model = keras.Sequential([\n",
    "      norm,\n",
    "      layers.Dense(64, activation='relu'),\n",
    "      layers.Dense(32, activation='relu'),\n",
    "      layers.Dense(64, activation='relu'),\n",
    "      layers.Dense(1)\n",
    "  ])\n",
    "\n",
    "  model.compile(loss='mean_absolute_error',\n",
    "                optimizer=tf.keras.optimizers.Adam(0.001))\n",
    "  return model"
   ]
  },
  {
   "cell_type": "code",
   "execution_count": 25,
   "id": "7f408d3c",
   "metadata": {},
   "outputs": [
    {
     "name": "stdout",
     "output_type": "stream",
     "text": [
      "Model: \"sequential\"\n",
      "_________________________________________________________________\n",
      " Layer (type)                Output Shape              Param #   \n",
      "=================================================================\n",
      " normalization (Normalizatio  (None, 4)                9         \n",
      " n)                                                              \n",
      "                                                                 \n",
      " dense (Dense)               (None, 64)                320       \n",
      "                                                                 \n",
      " dense_1 (Dense)             (None, 32)                2080      \n",
      "                                                                 \n",
      " dense_2 (Dense)             (None, 64)                2112      \n",
      "                                                                 \n",
      " dense_3 (Dense)             (None, 1)                 65        \n",
      "                                                                 \n",
      "=================================================================\n",
      "Total params: 4,586\n",
      "Trainable params: 4,577\n",
      "Non-trainable params: 9\n",
      "_________________________________________________________________\n"
     ]
    }
   ],
   "source": [
    "dnn_model = build_and_compile_model(normalizer)\n",
    "dnn_model.summary()"
   ]
  },
  {
   "cell_type": "code",
   "execution_count": 26,
   "id": "33df209f",
   "metadata": {},
   "outputs": [],
   "source": [
    "test_features.drop(\"date\",axis=1,inplace=True)\n",
    "test_features=np.asarray(test_features).astype('float32')\n",
    "test_labels=np.asarray(test_labels).astype('float32')"
   ]
  },
  {
   "cell_type": "code",
   "execution_count": 27,
   "id": "c7653bb8",
   "metadata": {},
   "outputs": [
    {
     "name": "stdout",
     "output_type": "stream",
     "text": [
      "CPU times: user 54.4 s, sys: 4.69 s, total: 59 s\n",
      "Wall time: 38.6 s\n"
     ]
    }
   ],
   "source": [
    "%%time\n",
    "history = dnn_model.fit(\n",
    "    train_features,\n",
    "    train_labels,\n",
    "    validation_split=0.2,\n",
    "    verbose=0, epochs=100)"
   ]
  },
  {
   "cell_type": "code",
   "execution_count": 28,
   "id": "d039c65a",
   "metadata": {},
   "outputs": [],
   "source": [
    "def plot_loss(history):\n",
    "  plt.plot(history.history['loss'], label='loss')\n",
    "  plt.plot(history.history['val_loss'], label='val_loss')\n",
    "  plt.ylim([0, 10])\n",
    "  plt.xlabel('Epoch')\n",
    "  plt.ylabel('Error [close]')\n",
    "  plt.legend()\n",
    "  plt.grid(True)"
   ]
  },
  {
   "cell_type": "code",
   "execution_count": 29,
   "id": "ffc4b52a",
   "metadata": {},
   "outputs": [
    {
     "data": {
      "image/png": "[encoded data removed]",
      "text/plain": [
       "<Figure size 432x288 with 1 Axes>"
      ]
     },
     "metadata": {
      "needs_background": "light"
     },
     "output_type": "display_data"
    }
   ],
   "source": [
    "plot_loss(history)"
   ]
  },
  {
   "cell_type": "code",
   "execution_count": 30,
   "id": "13b2fb71",
   "metadata": {},
   "outputs": [
    {
     "name": "stdout",
     "output_type": "stream",
     "text": [
      "41/41 [==============================] - 0s 2ms/step\n"
     ]
    }
   ],
   "source": [
    "test_predictions = dnn_model.predict(test_features).flatten()"
   ]
  },
  {
   "cell_type": "code",
   "execution_count": 31,
   "id": "ddc5b231",
   "metadata": {},
   "outputs": [
    {
     "data": {
      "text/plain": [
       "1294"
      ]
     },
     "execution_count": 31,
     "metadata": {},
     "output_type": "execute_result"
    }
   ],
   "source": [
    "len(test_predictions)"
   ]
  },
  {
   "cell_type": "code",
   "execution_count": 32,
   "id": "3f5fd8e9",
   "metadata": {},
   "outputs": [
    {
     "data": {
      "image/png": "[encoded data removed]",
      "text/plain": [
       "<Figure size 432x288 with 1 Axes>"
      ]
     },
     "metadata": {
      "needs_background": "light"
     },
     "output_type": "display_data"
    }
   ],
   "source": [
    "a = plt.axes(aspect='equal')\n",
    "plt.scatter(test_labels, test_predictions)\n",
    "plt.xlabel('True Values ')\n",
    "plt.ylabel('Predictions ')\n",
    "lims = [0, 50]\n",
    "plt.xlim(lims)\n",
    "plt.ylim(lims)\n",
    "_ = plt.plot(lims, lims)"
   ]
  },
  {
   "cell_type": "code",
   "execution_count": 33,
   "id": "6c93d293",
   "metadata": {},
   "outputs": [
    {
     "name": "stdout",
     "output_type": "stream",
     "text": [
      "162/162 [==============================] - 0s 2ms/step\n"
     ]
    },
    {
     "data": {
      "text/plain": [
       "array([[37781.21 ],\n",
       "       [36348.062],\n",
       "       [39380.09 ],\n",
       "       ...,\n",
       "       [38642.62 ],\n",
       "       [38023.01 ],\n",
       "       [38586.98 ]], dtype=float32)"
      ]
     },
     "execution_count": 33,
     "metadata": {},
     "output_type": "execute_result"
    }
   ],
   "source": [
    "dnn_model.predict(train_features)"
   ]
  },
  {
   "cell_type": "code",
   "execution_count": 34,
   "id": "63e0da91",
   "metadata": {},
   "outputs": [
    {
     "data": {
      "text/plain": [
       "array([[37907.4 , 38120.55, 37906.8 ,     0.  ],\n",
       "       [36338.05, 36364.7 , 36251.35,     0.  ],\n",
       "       [39046.4 , 39148.35, 39043.9 ,     0.  ],\n",
       "       ...,\n",
       "       [38598.1 , 38607.8 , 38535.1 ,     0.  ],\n",
       "       [36972.8 , 37051.35, 36884.85,     0.  ],\n",
       "       [37880.  , 37917.35, 37840.55,     0.  ]], dtype=float32)"
      ]
     },
     "execution_count": 34,
     "metadata": {},
     "output_type": "execute_result"
    }
   ],
   "source": []
  },
  {
   "cell_type": "code",
   "execution_count": 40,
   "id": "b97b5190",
   "metadata": {},
   "outputs": [],
   "source": [
    "t=dataset.iloc[-5:,]"
   ]
  },
  {
   "cell_type": "code",
   "execution_count": 41,
   "id": "38c8cda3",
   "metadata": {},
   "outputs": [],
   "source": [
    "test=t.copy()"
   ]
  },
  {
   "cell_type": "code",
   "execution_count": 42,
   "id": "f665cf5d",
   "metadata": {},
   "outputs": [
    {
     "data": {
      "text/html": [
       "<div>\n",
       "<style scoped>\n",
       "    .dataframe tbody tr th:only-of-type {\n",
       "        vertical-align: middle;\n",
       "    }\n",
       "\n",
       "    .dataframe tbody tr th {\n",
       "        vertical-align: top;\n",
       "    }\n",
       "\n",
       "    .dataframe thead th {\n",
       "        text-align: right;\n",
       "    }\n",
       "</style>\n",
       "<table border=\"1\" class=\"dataframe\">\n",
       "  <thead>\n",
       "    <tr style=\"text-align: right;\">\n",
       "      <th></th>\n",
       "      <th>open</th>\n",
       "      <th>high</th>\n",
       "      <th>low</th>\n",
       "      <th>close</th>\n",
       "      <th>volume</th>\n",
       "      <th>date</th>\n",
       "    </tr>\n",
       "    <tr>\n",
       "      <th>date</th>\n",
       "      <th></th>\n",
       "      <th></th>\n",
       "      <th></th>\n",
       "      <th></th>\n",
       "      <th></th>\n",
       "      <th></th>\n",
       "    </tr>\n",
       "  </thead>\n",
       "  <tbody>\n",
       "    <tr>\n",
       "      <th>2022-09-15 14:30:00</th>\n",
       "      <td>41406.95</td>\n",
       "      <td>41521.15</td>\n",
       "      <td>41402.50</td>\n",
       "      <td>41467.00</td>\n",
       "      <td>0</td>\n",
       "      <td>2022-09-15 14:30:00</td>\n",
       "    </tr>\n",
       "    <tr>\n",
       "      <th>2022-09-15 14:45:00</th>\n",
       "      <td>41465.15</td>\n",
       "      <td>41465.15</td>\n",
       "      <td>41313.35</td>\n",
       "      <td>41313.35</td>\n",
       "      <td>0</td>\n",
       "      <td>2022-09-15 14:45:00</td>\n",
       "    </tr>\n",
       "    <tr>\n",
       "      <th>2022-09-15 15:00:00</th>\n",
       "      <td>41310.90</td>\n",
       "      <td>41330.90</td>\n",
       "      <td>41168.70</td>\n",
       "      <td>41203.50</td>\n",
       "      <td>0</td>\n",
       "      <td>2022-09-15 15:00:00</td>\n",
       "    </tr>\n",
       "    <tr>\n",
       "      <th>2022-09-15 15:15:00</th>\n",
       "      <td>41200.35</td>\n",
       "      <td>41227.90</td>\n",
       "      <td>41167.00</td>\n",
       "      <td>41208.45</td>\n",
       "      <td>0</td>\n",
       "      <td>2022-09-15 15:15:00</td>\n",
       "    </tr>\n",
       "    <tr>\n",
       "      <th>2022-09-15 15:30:00</th>\n",
       "      <td>41199.00</td>\n",
       "      <td>41199.00</td>\n",
       "      <td>41199.00</td>\n",
       "      <td>41199.00</td>\n",
       "      <td>0</td>\n",
       "      <td>2022-09-15 15:30:00</td>\n",
       "    </tr>\n",
       "  </tbody>\n",
       "</table>\n",
       "</div>"
      ],
      "text/plain": [
       "                         open      high       low     close  volume  \\\n",
       "date                                                                  \n",
       "2022-09-15 14:30:00  41406.95  41521.15  41402.50  41467.00       0   \n",
       "2022-09-15 14:45:00  41465.15  41465.15  41313.35  41313.35       0   \n",
       "2022-09-15 15:00:00  41310.90  41330.90  41168.70  41203.50       0   \n",
       "2022-09-15 15:15:00  41200.35  41227.90  41167.00  41208.45       0   \n",
       "2022-09-15 15:30:00  41199.00  41199.00  41199.00  41199.00       0   \n",
       "\n",
       "                                   date  \n",
       "date                                     \n",
       "2022-09-15 14:30:00 2022-09-15 14:30:00  \n",
       "2022-09-15 14:45:00 2022-09-15 14:45:00  \n",
       "2022-09-15 15:00:00 2022-09-15 15:00:00  \n",
       "2022-09-15 15:15:00 2022-09-15 15:15:00  \n",
       "2022-09-15 15:30:00 2022-09-15 15:30:00  "
      ]
     },
     "execution_count": 42,
     "metadata": {},
     "output_type": "execute_result"
    }
   ],
   "source": [
    "test"
   ]
  },
  {
   "cell_type": "code",
   "execution_count": 43,
   "id": "22cc321d",
   "metadata": {},
   "outputs": [],
   "source": [
    "test.drop([\"date\",\"close\"],axis=1,inplace=True)\n",
    "test=np.asarray(test).astype('float32')"
   ]
  },
  {
   "cell_type": "code",
   "execution_count": 38,
   "id": "fac0989d",
   "metadata": {},
   "outputs": [
    {
     "data": {
      "text/plain": [
       "array([[41406.95, 41521.15, 41402.5 , 41467.  ,     0.  ],\n",
       "       [41465.15, 41465.15, 41313.35, 41313.35,     0.  ],\n",
       "       [41310.9 , 41330.9 , 41168.7 , 41203.5 ,     0.  ],\n",
       "       [41200.35, 41227.9 , 41167.  , 41208.45,     0.  ],\n",
       "       [41199.  , 41199.  , 41199.  , 41199.  ,     0.  ]], dtype=float32)"
      ]
     },
     "execution_count": 38,
     "metadata": {},
     "output_type": "execute_result"
    }
   ],
   "source": [
    "test="
   ]
  },
  {
   "cell_type": "code",
   "execution_count": 44,
   "id": "f270b9c9",
   "metadata": {},
   "outputs": [
    {
     "name": "stdout",
     "output_type": "stream",
     "text": [
      "1/1 [==============================] - 0s 32ms/step\n"
     ]
    },
    {
     "data": {
      "text/plain": [
       "array([[41478.348],\n",
       "       [41323.53 ],\n",
       "       [41194.72 ],\n",
       "       [41179.44 ],\n",
       "       [41182.63 ]], dtype=float32)"
      ]
     },
     "execution_count": 44,
     "metadata": {},
     "output_type": "execute_result"
    }
   ],
   "source": [
    "dnn_model.predict(test)"
   ]
  },
  {
   "cell_type": "code",
   "execution_count": null,
   "id": "df379495",
   "metadata": {},
   "outputs": [],
   "source": []
  }
 ],
 "metadata": {
  "kernelspec": {
   "display_name": "Python 3 (ipykernel)",
   "language": "python",
   "name": "python3"
  },
  "language_info": {
   "codemirror_mode": {
    "name": "ipython",
    "version": 3
   },
   "file_extension": ".py",
   "mimetype": "text/x-python",
   "name": "python",
   "nbconvert_exporter": "python",
   "pygments_lexer": "ipython3",
   "version": "3.10.4"
  }
 },
 "nbformat": 4,
 "nbformat_minor": 5
}
