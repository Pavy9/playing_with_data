{
  "nbformat": 4,
  "nbformat_minor": 0,
  "metadata": {
    "colab": {
      "provenance": [],
      "collapsed_sections": [],
      "authorship_tag": "ABX9TyMiYhSJDVnrzy/38+MgppKe"
    },
    "kernelspec": {
      "name": "python3",
      "display_name": "Python 3"
    },
    "language_info": {
      "name": "python"
    },
    "accelerator": "GPU",
    "gpuClass": "standard"
  },
  "cells": [
    {
      "cell_type": "code",
      "execution_count": null,
      "metadata": {
        "id": "fmtg0K7pTF8z"
      },
      "outputs": [],
      "source": [
        "import os\n",
        "import datetime\n",
        "\n",
        "import IPython\n",
        "import IPython.display\n",
        "import matplotlib as mpl\n",
        "import matplotlib.pyplot as plt\n",
        "import numpy as np\n",
        "import pandas as pd\n",
        "import seaborn as sns\n",
        "import tensorflow as tf\n",
        "\n",
        "mpl.rcParams['figure.figsize'] = (8, 6)\n",
        "mpl.rcParams['axes.grid'] = False"
      ]
    },
    {
      "cell_type": "code",
      "source": [
        "!pip install nsepy"
      ],
      "metadata": {
        "colab": {
          "base_uri": "https://localhost:8080/"
        },
        "id": "xVpJWDqcTR8L",
        "outputId": "eb48aecb-11b0-4d6e-b494-56c6b4894fdb"
      },
      "execution_count": null,
      "outputs": [
        {
          "output_type": "stream",
          "name": "stdout",
          "text": [
            "Looking in indexes: https://pypi.org/simple, https://us-python.pkg.dev/colab-wheels/public/simple/\n",
            "Requirement already satisfied: nsepy in /usr/local/lib/python3.7/dist-packages (0.8)\n",
            "Requirement already satisfied: lxml in /usr/local/lib/python3.7/dist-packages (from nsepy) (4.9.1)\n",
            "Requirement already satisfied: numpy in /usr/local/lib/python3.7/dist-packages (from nsepy) (1.21.6)\n",
            "Requirement already satisfied: beautifulsoup4 in /usr/local/lib/python3.7/dist-packages (from nsepy) (4.6.3)\n",
            "Requirement already satisfied: six in /usr/local/lib/python3.7/dist-packages (from nsepy) (1.15.0)\n",
            "Requirement already satisfied: click in /usr/local/lib/python3.7/dist-packages (from nsepy) (7.1.2)\n",
            "Requirement already satisfied: requests in /usr/local/lib/python3.7/dist-packages (from nsepy) (2.23.0)\n",
            "Requirement already satisfied: pandas in /usr/local/lib/python3.7/dist-packages (from nsepy) (1.3.5)\n",
            "Requirement already satisfied: python-dateutil>=2.7.3 in /usr/local/lib/python3.7/dist-packages (from pandas->nsepy) (2.8.2)\n",
            "Requirement already satisfied: pytz>=2017.3 in /usr/local/lib/python3.7/dist-packages (from pandas->nsepy) (2022.2.1)\n",
            "Requirement already satisfied: idna<3,>=2.5 in /usr/local/lib/python3.7/dist-packages (from requests->nsepy) (2.10)\n",
            "Requirement already satisfied: chardet<4,>=3.0.2 in /usr/local/lib/python3.7/dist-packages (from requests->nsepy) (3.0.4)\n",
            "Requirement already satisfied: certifi>=2017.4.17 in /usr/local/lib/python3.7/dist-packages (from requests->nsepy) (2022.6.15)\n",
            "Requirement already satisfied: urllib3!=1.25.0,!=1.25.1,<1.26,>=1.21.1 in /usr/local/lib/python3.7/dist-packages (from requests->nsepy) (1.24.3)\n"
          ]
        }
      ]
    },
    {
      "cell_type": "code",
      "source": [
        "import pandas as pd\n",
        "from datetime import date\n",
        "from nsepy import get_history\n",
        "\n",
        "from matplotlib import pyplot as plt\n",
        "%matplotlib inline "
      ],
      "metadata": {
        "id": "fBNXFxzETVvZ"
      },
      "execution_count": null,
      "outputs": []
    },
    {
      "cell_type": "code",
      "source": [
        "symbol = ['NIFTY SMLCAP 100','NIFTY SMLCAP 250','NIFTY SMLCAP 50','NIFTY MIDCAP 150','NIFTY 50','NIFTY NEXT 50','NIFTY FMCG','NIFTY BANK']"
      ],
      "metadata": {
        "id": "psI-o9wsTYBh"
      },
      "execution_count": null,
      "outputs": []
    },
    {
      "cell_type": "code",
      "source": [
        "data1=[]\n",
        "data1 = pd.DataFrame(data1)\n",
        "for x in symbol:\n",
        "    data = get_history(symbol=x, start=date(2019,1,1), end=date(2022,9,11), index = True)\n",
        "    data = pd.DataFrame(data)\n",
        "    data['Index_Name'] = x\n",
        "    data1 = pd.concat([data1,data])\n",
        "    print(x)"
      ],
      "metadata": {
        "id": "7HVDXrQxZi1O"
      },
      "execution_count": null,
      "outputs": []
    },
    {
      "cell_type": "code",
      "source": [
        "symbol =  ['3MINDIA','AARTIDRUGS','AARTIIND','ABB','ABBOTINDIA']"
      ],
      "metadata": {
        "id": "r9KoAeyXZHyn"
      },
      "execution_count": null,
      "outputs": []
    },
    {
      "cell_type": "code",
      "source": [
        "data1=[]\n",
        "data1 = pd.DataFrame(data1)\n",
        "counter = 0\n",
        "for x in symbol:\n",
        "    data = get_history(symbol=x, start=date(2019,1,1), end=date(2020,12,31))\n",
        "    data = pd.DataFrame(data)\n",
        "    data1 = pd.concat([data1,data])\n",
        "    print(x)"
      ],
      "metadata": {
        "colab": {
          "base_uri": "https://localhost:8080/"
        },
        "id": "PPGSmDBoZH6A",
        "outputId": "c8969c73-cff3-4283-cddf-9f9b3e199ee3"
      },
      "execution_count": null,
      "outputs": [
        {
          "output_type": "stream",
          "name": "stdout",
          "text": [
            "3MINDIA\n",
            "AARTIDRUGS\n",
            "AARTIIND\n",
            "ABB\n",
            "ABBOTINDIA\n"
          ]
        }
      ]
    },
    {
      "cell_type": "code",
      "source": [],
      "metadata": {
        "id": "9CEBJ2IkTaXs"
      },
      "execution_count": null,
      "outputs": []
    },
    {
      "cell_type": "code",
      "source": [
        "data1"
      ],
      "metadata": {
        "colab": {
          "base_uri": "https://localhost:8080/",
          "height": 690
        },
        "id": "eSqcwr3YZRHf",
        "outputId": "91e4c8f3-8800-47db-95ba-5e8a231e4bf8"
      },
      "execution_count": null,
      "outputs": [
        {
          "output_type": "execute_result",
          "data": {
            "text/plain": [
              "                Symbol Series  Prev Close      Open      High       Low  \\\n",
              "Date                                                                      \n",
              "2019-01-01     3MINDIA     EQ    20824.40  20854.95  20870.00  20625.00   \n",
              "2019-01-02     3MINDIA     EQ    20666.35  20666.35  20666.35  19952.45   \n",
              "2019-01-03     3MINDIA     EQ    19985.75  20160.00  20269.95  19801.60   \n",
              "2019-01-04     3MINDIA     EQ    19990.25  20011.40  20540.00  19997.00   \n",
              "2019-01-07     3MINDIA     EQ    20357.40  20699.45  20699.45  20350.00   \n",
              "...                ...    ...         ...       ...       ...       ...   \n",
              "2020-12-24  ABBOTINDIA     EQ    15777.35  15940.00  15940.00  15600.00   \n",
              "2020-12-28  ABBOTINDIA     EQ    15727.40  15843.65  15940.00  15657.95   \n",
              "2020-12-29  ABBOTINDIA     EQ    15697.70  15777.70  15899.90  15600.00   \n",
              "2020-12-30  ABBOTINDIA     EQ    15701.90  15800.00  15840.05  15600.00   \n",
              "2020-12-31  ABBOTINDIA     EQ    15628.40  15650.00  15899.00  15635.05   \n",
              "\n",
              "                Last     Close      VWAP  Volume      Turnover  Trades  \\\n",
              "Date                                                                     \n",
              "2019-01-01  20675.00  20666.35  20750.86     517  1.072820e+12     302   \n",
              "2019-01-02  19980.00  19985.75  20024.56    8642  1.730522e+13    2543   \n",
              "2019-01-03  19950.00  19990.25  19984.90    2402  4.800374e+12     968   \n",
              "2019-01-04  20380.35  20357.40  20262.32    3891  7.884071e+12    1557   \n",
              "2019-01-07  20350.00  20388.25  20490.26    1121  2.296959e+12     606   \n",
              "...              ...       ...       ...     ...           ...     ...   \n",
              "2020-12-24  15750.00  15727.40  15798.28   13290  2.099592e+13    6418   \n",
              "2020-12-28  15700.00  15697.70  15744.46   16355  2.575006e+13    5182   \n",
              "2020-12-29  15750.00  15701.90  15741.50    9933  1.563603e+13    3198   \n",
              "2020-12-30  15644.00  15628.40  15667.79   11997  1.879665e+13    4117   \n",
              "2020-12-31  15760.00  15769.10  15774.89   11865  1.871691e+13    5165   \n",
              "\n",
              "            Deliverable Volume  %Deliverble  \n",
              "Date                                         \n",
              "2019-01-01                 290       0.5609  \n",
              "2019-01-02                4849       0.5611  \n",
              "2019-01-03                1605       0.6682  \n",
              "2019-01-04                1691       0.4346  \n",
              "2019-01-07                 840       0.7493  \n",
              "...                        ...          ...  \n",
              "2020-12-24                7532       0.5667  \n",
              "2020-12-28               11004       0.6728  \n",
              "2020-12-29                6255       0.6297  \n",
              "2020-12-30                6440       0.5368  \n",
              "2020-12-31                5411       0.4560  \n",
              "\n",
              "[2465 rows x 14 columns]"
            ],
            "text/html": [
              "\n",
              "  <div id=\"df-57db8c1b-722f-4447-8519-07d8dff355b1\">\n",
              "    <div class=\"colab-df-container\">\n",
              "      <div>\n",
              "<style scoped>\n",
              "    .dataframe tbody tr th:only-of-type {\n",
              "        vertical-align: middle;\n",
              "    }\n",
              "\n",
              "    .dataframe tbody tr th {\n",
              "        vertical-align: top;\n",
              "    }\n",
              "\n",
              "    .dataframe thead th {\n",
              "        text-align: right;\n",
              "    }\n",
              "</style>\n",
              "<table border=\"1\" class=\"dataframe\">\n",
              "  <thead>\n",
              "    <tr style=\"text-align: right;\">\n",
              "      <th></th>\n",
              "      <th>Symbol</th>\n",
              "      <th>Series</th>\n",
              "      <th>Prev Close</th>\n",
              "      <th>Open</th>\n",
              "      <th>High</th>\n",
              "      <th>Low</th>\n",
              "      <th>Last</th>\n",
              "      <th>Close</th>\n",
              "      <th>VWAP</th>\n",
              "      <th>Volume</th>\n",
              "      <th>Turnover</th>\n",
              "      <th>Trades</th>\n",
              "      <th>Deliverable Volume</th>\n",
              "      <th>%Deliverble</th>\n",
              "    </tr>\n",
              "    <tr>\n",
              "      <th>Date</th>\n",
              "      <th></th>\n",
              "      <th></th>\n",
              "      <th></th>\n",
              "      <th></th>\n",
              "      <th></th>\n",
              "      <th></th>\n",
              "      <th></th>\n",
              "      <th></th>\n",
              "      <th></th>\n",
              "      <th></th>\n",
              "      <th></th>\n",
              "      <th></th>\n",
              "      <th></th>\n",
              "      <th></th>\n",
              "    </tr>\n",
              "  </thead>\n",
              "  <tbody>\n",
              "    <tr>\n",
              "      <th>2019-01-01</th>\n",
              "      <td>3MINDIA</td>\n",
              "      <td>EQ</td>\n",
              "      <td>20824.40</td>\n",
              "      <td>20854.95</td>\n",
              "      <td>20870.00</td>\n",
              "      <td>20625.00</td>\n",
              "      <td>20675.00</td>\n",
              "      <td>20666.35</td>\n",
              "      <td>20750.86</td>\n",
              "      <td>517</td>\n",
              "      <td>1.072820e+12</td>\n",
              "      <td>302</td>\n",
              "      <td>290</td>\n",
              "      <td>0.5609</td>\n",
              "    </tr>\n",
              "    <tr>\n",
              "      <th>2019-01-02</th>\n",
              "      <td>3MINDIA</td>\n",
              "      <td>EQ</td>\n",
              "      <td>20666.35</td>\n",
              "      <td>20666.35</td>\n",
              "      <td>20666.35</td>\n",
              "      <td>19952.45</td>\n",
              "      <td>19980.00</td>\n",
              "      <td>19985.75</td>\n",
              "      <td>20024.56</td>\n",
              "      <td>8642</td>\n",
              "      <td>1.730522e+13</td>\n",
              "      <td>2543</td>\n",
              "      <td>4849</td>\n",
              "      <td>0.5611</td>\n",
              "    </tr>\n",
              "    <tr>\n",
              "      <th>2019-01-03</th>\n",
              "      <td>3MINDIA</td>\n",
              "      <td>EQ</td>\n",
              "      <td>19985.75</td>\n",
              "      <td>20160.00</td>\n",
              "      <td>20269.95</td>\n",
              "      <td>19801.60</td>\n",
              "      <td>19950.00</td>\n",
              "      <td>19990.25</td>\n",
              "      <td>19984.90</td>\n",
              "      <td>2402</td>\n",
              "      <td>4.800374e+12</td>\n",
              "      <td>968</td>\n",
              "      <td>1605</td>\n",
              "      <td>0.6682</td>\n",
              "    </tr>\n",
              "    <tr>\n",
              "      <th>2019-01-04</th>\n",
              "      <td>3MINDIA</td>\n",
              "      <td>EQ</td>\n",
              "      <td>19990.25</td>\n",
              "      <td>20011.40</td>\n",
              "      <td>20540.00</td>\n",
              "      <td>19997.00</td>\n",
              "      <td>20380.35</td>\n",
              "      <td>20357.40</td>\n",
              "      <td>20262.32</td>\n",
              "      <td>3891</td>\n",
              "      <td>7.884071e+12</td>\n",
              "      <td>1557</td>\n",
              "      <td>1691</td>\n",
              "      <td>0.4346</td>\n",
              "    </tr>\n",
              "    <tr>\n",
              "      <th>2019-01-07</th>\n",
              "      <td>3MINDIA</td>\n",
              "      <td>EQ</td>\n",
              "      <td>20357.40</td>\n",
              "      <td>20699.45</td>\n",
              "      <td>20699.45</td>\n",
              "      <td>20350.00</td>\n",
              "      <td>20350.00</td>\n",
              "      <td>20388.25</td>\n",
              "      <td>20490.26</td>\n",
              "      <td>1121</td>\n",
              "      <td>2.296959e+12</td>\n",
              "      <td>606</td>\n",
              "      <td>840</td>\n",
              "      <td>0.7493</td>\n",
              "    </tr>\n",
              "    <tr>\n",
              "      <th>...</th>\n",
              "      <td>...</td>\n",
              "      <td>...</td>\n",
              "      <td>...</td>\n",
              "      <td>...</td>\n",
              "      <td>...</td>\n",
              "      <td>...</td>\n",
              "      <td>...</td>\n",
              "      <td>...</td>\n",
              "      <td>...</td>\n",
              "      <td>...</td>\n",
              "      <td>...</td>\n",
              "      <td>...</td>\n",
              "      <td>...</td>\n",
              "      <td>...</td>\n",
              "    </tr>\n",
              "    <tr>\n",
              "      <th>2020-12-24</th>\n",
              "      <td>ABBOTINDIA</td>\n",
              "      <td>EQ</td>\n",
              "      <td>15777.35</td>\n",
              "      <td>15940.00</td>\n",
              "      <td>15940.00</td>\n",
              "      <td>15600.00</td>\n",
              "      <td>15750.00</td>\n",
              "      <td>15727.40</td>\n",
              "      <td>15798.28</td>\n",
              "      <td>13290</td>\n",
              "      <td>2.099592e+13</td>\n",
              "      <td>6418</td>\n",
              "      <td>7532</td>\n",
              "      <td>0.5667</td>\n",
              "    </tr>\n",
              "    <tr>\n",
              "      <th>2020-12-28</th>\n",
              "      <td>ABBOTINDIA</td>\n",
              "      <td>EQ</td>\n",
              "      <td>15727.40</td>\n",
              "      <td>15843.65</td>\n",
              "      <td>15940.00</td>\n",
              "      <td>15657.95</td>\n",
              "      <td>15700.00</td>\n",
              "      <td>15697.70</td>\n",
              "      <td>15744.46</td>\n",
              "      <td>16355</td>\n",
              "      <td>2.575006e+13</td>\n",
              "      <td>5182</td>\n",
              "      <td>11004</td>\n",
              "      <td>0.6728</td>\n",
              "    </tr>\n",
              "    <tr>\n",
              "      <th>2020-12-29</th>\n",
              "      <td>ABBOTINDIA</td>\n",
              "      <td>EQ</td>\n",
              "      <td>15697.70</td>\n",
              "      <td>15777.70</td>\n",
              "      <td>15899.90</td>\n",
              "      <td>15600.00</td>\n",
              "      <td>15750.00</td>\n",
              "      <td>15701.90</td>\n",
              "      <td>15741.50</td>\n",
              "      <td>9933</td>\n",
              "      <td>1.563603e+13</td>\n",
              "      <td>3198</td>\n",
              "      <td>6255</td>\n",
              "      <td>0.6297</td>\n",
              "    </tr>\n",
              "    <tr>\n",
              "      <th>2020-12-30</th>\n",
              "      <td>ABBOTINDIA</td>\n",
              "      <td>EQ</td>\n",
              "      <td>15701.90</td>\n",
              "      <td>15800.00</td>\n",
              "      <td>15840.05</td>\n",
              "      <td>15600.00</td>\n",
              "      <td>15644.00</td>\n",
              "      <td>15628.40</td>\n",
              "      <td>15667.79</td>\n",
              "      <td>11997</td>\n",
              "      <td>1.879665e+13</td>\n",
              "      <td>4117</td>\n",
              "      <td>6440</td>\n",
              "      <td>0.5368</td>\n",
              "    </tr>\n",
              "    <tr>\n",
              "      <th>2020-12-31</th>\n",
              "      <td>ABBOTINDIA</td>\n",
              "      <td>EQ</td>\n",
              "      <td>15628.40</td>\n",
              "      <td>15650.00</td>\n",
              "      <td>15899.00</td>\n",
              "      <td>15635.05</td>\n",
              "      <td>15760.00</td>\n",
              "      <td>15769.10</td>\n",
              "      <td>15774.89</td>\n",
              "      <td>11865</td>\n",
              "      <td>1.871691e+13</td>\n",
              "      <td>5165</td>\n",
              "      <td>5411</td>\n",
              "      <td>0.4560</td>\n",
              "    </tr>\n",
              "  </tbody>\n",
              "</table>\n",
              "<p>2465 rows × 14 columns</p>\n",
              "</div>\n",
              "      <button class=\"colab-df-convert\" onclick=\"convertToInteractive('df-57db8c1b-722f-4447-8519-07d8dff355b1')\"\n",
              "              title=\"Convert this dataframe to an interactive table.\"\n",
              "              style=\"display:none;\">\n",
              "        \n",
              "  <svg xmlns=\"http://www.w3.org/2000/svg\" height=\"24px\"viewBox=\"0 0 24 24\"\n",
              "       width=\"24px\">\n",
              "    <path d=\"M0 0h24v24H0V0z\" fill=\"none\"/>\n",
              "    <path d=\"M18.56 5.44l.94 2.06.94-2.06 2.06-.94-2.06-.94-.94-2.06-.94 2.06-2.06.94zm-11 1L8.5 8.5l.94-2.06 2.06-.94-2.06-.94L8.5 2.5l-.94 2.06-2.06.94zm10 10l.94 2.06.94-2.06 2.06-.94-2.06-.94-.94-2.06-.94 2.06-2.06.94z\"/><path d=\"M17.41 7.96l-1.37-1.37c-.4-.4-.92-.59-1.43-.59-.52 0-1.04.2-1.43.59L10.3 9.45l-7.72 7.72c-.78.78-.78 2.05 0 2.83L4 21.41c.39.39.9.59 1.41.59.51 0 1.02-.2 1.41-.59l7.78-7.78 2.81-2.81c.8-.78.8-2.07 0-2.86zM5.41 20L4 18.59l7.72-7.72 1.47 1.35L5.41 20z\"/>\n",
              "  </svg>\n",
              "      </button>\n",
              "      \n",
              "  <style>\n",
              "    .colab-df-container {\n",
              "      display:flex;\n",
              "      flex-wrap:wrap;\n",
              "      gap: 12px;\n",
              "    }\n",
              "\n",
              "    .colab-df-convert {\n",
              "      background-color: #E8F0FE;\n",
              "      border: none;\n",
              "      border-radius: 50%;\n",
              "      cursor: pointer;\n",
              "      display: none;\n",
              "      fill: #1967D2;\n",
              "      height: 32px;\n",
              "      padding: 0 0 0 0;\n",
              "      width: 32px;\n",
              "    }\n",
              "\n",
              "    .colab-df-convert:hover {\n",
              "      background-color: #E2EBFA;\n",
              "      box-shadow: 0px 1px 2px rgba(60, 64, 67, 0.3), 0px 1px 3px 1px rgba(60, 64, 67, 0.15);\n",
              "      fill: #174EA6;\n",
              "    }\n",
              "\n",
              "    [theme=dark] .colab-df-convert {\n",
              "      background-color: #3B4455;\n",
              "      fill: #D2E3FC;\n",
              "    }\n",
              "\n",
              "    [theme=dark] .colab-df-convert:hover {\n",
              "      background-color: #434B5C;\n",
              "      box-shadow: 0px 1px 3px 1px rgba(0, 0, 0, 0.15);\n",
              "      filter: drop-shadow(0px 1px 2px rgba(0, 0, 0, 0.3));\n",
              "      fill: #FFFFFF;\n",
              "    }\n",
              "  </style>\n",
              "\n",
              "      <script>\n",
              "        const buttonEl =\n",
              "          document.querySelector('#df-57db8c1b-722f-4447-8519-07d8dff355b1 button.colab-df-convert');\n",
              "        buttonEl.style.display =\n",
              "          google.colab.kernel.accessAllowed ? 'block' : 'none';\n",
              "\n",
              "        async function convertToInteractive(key) {\n",
              "          const element = document.querySelector('#df-57db8c1b-722f-4447-8519-07d8dff355b1');\n",
              "          const dataTable =\n",
              "            await google.colab.kernel.invokeFunction('convertToInteractive',\n",
              "                                                     [key], {});\n",
              "          if (!dataTable) return;\n",
              "\n",
              "          const docLinkHtml = 'Like what you see? Visit the ' +\n",
              "            '<a target=\"_blank\" href=https://colab.research.google.com/notebooks/data_table.ipynb>data table notebook</a>'\n",
              "            + ' to learn more about interactive tables.';\n",
              "          element.innerHTML = '';\n",
              "          dataTable['output_type'] = 'display_data';\n",
              "          await google.colab.output.renderOutput(dataTable, element);\n",
              "          const docLink = document.createElement('div');\n",
              "          docLink.innerHTML = docLinkHtml;\n",
              "          element.appendChild(docLink);\n",
              "        }\n",
              "      </script>\n",
              "    </div>\n",
              "  </div>\n",
              "  "
            ]
          },
          "metadata": {},
          "execution_count": 159
        }
      ]
    },
    {
      "cell_type": "code",
      "source": [
        "nifty_bank=data1[data1[\"Index_Name\"]=='NIFTY BANK']"
      ],
      "metadata": {
        "id": "-1kSwZzgTeG7"
      },
      "execution_count": null,
      "outputs": []
    },
    {
      "cell_type": "code",
      "source": [
        "nifty_bank"
      ],
      "metadata": {
        "colab": {
          "base_uri": "https://localhost:8080/",
          "height": 455
        },
        "id": "Wm8Rss3iTqY8",
        "outputId": "7c68e9a2-ee11-4a9f-f31a-6c41b501cd32"
      },
      "execution_count": null,
      "outputs": [
        {
          "output_type": "execute_result",
          "data": {
            "text/plain": [
              "                Open      High       Low     Close       Volume      Turnover  \\\n",
              "Date                                                                            \n",
              "2019-01-01  27231.40  27430.55  27019.05  27392.40  116379065.0  3.497390e+10   \n",
              "2019-01-02  27297.00  27397.55  27077.60  27174.70  176599164.0  4.422440e+10   \n",
              "2019-01-03  27181.60  27206.20  26923.75  26959.85  151201387.0  4.032830e+10   \n",
              "2019-01-04  26999.70  27274.50  26926.10  27195.00  189451222.0  4.440790e+10   \n",
              "2019-01-07  27378.65  27477.80  27279.55  27304.55  161026470.0  4.112840e+10   \n",
              "...              ...       ...       ...       ...          ...           ...   \n",
              "2022-09-05  39412.05  39865.20  39407.40  39805.75  214148830.0  5.248400e+10   \n",
              "2022-09-06  39892.95  40073.75  39564.30  39666.50  210170553.0  4.955610e+10   \n",
              "2022-09-07  39337.75  39572.05  39258.25  39455.90  138911320.0  4.236120e+10   \n",
              "2022-09-08  39763.90  40265.75  39706.40  40208.95  203813147.0  5.950430e+10   \n",
              "2022-09-09  40520.75  40685.95  40280.30  40415.70  207024632.0  6.307150e+10   \n",
              "\n",
              "            Index_Name  \n",
              "Date                    \n",
              "2019-01-01  NIFTY BANK  \n",
              "2019-01-02  NIFTY BANK  \n",
              "2019-01-03  NIFTY BANK  \n",
              "2019-01-04  NIFTY BANK  \n",
              "2019-01-07  NIFTY BANK  \n",
              "...                ...  \n",
              "2022-09-05  NIFTY BANK  \n",
              "2022-09-06  NIFTY BANK  \n",
              "2022-09-07  NIFTY BANK  \n",
              "2022-09-08  NIFTY BANK  \n",
              "2022-09-09  NIFTY BANK  \n",
              "\n",
              "[916 rows x 7 columns]"
            ],
            "text/html": [
              "\n",
              "  <div id=\"df-bad90f9a-b865-4fc9-9d6b-19a1abf3f7d6\">\n",
              "    <div class=\"colab-df-container\">\n",
              "      <div>\n",
              "<style scoped>\n",
              "    .dataframe tbody tr th:only-of-type {\n",
              "        vertical-align: middle;\n",
              "    }\n",
              "\n",
              "    .dataframe tbody tr th {\n",
              "        vertical-align: top;\n",
              "    }\n",
              "\n",
              "    .dataframe thead th {\n",
              "        text-align: right;\n",
              "    }\n",
              "</style>\n",
              "<table border=\"1\" class=\"dataframe\">\n",
              "  <thead>\n",
              "    <tr style=\"text-align: right;\">\n",
              "      <th></th>\n",
              "      <th>Open</th>\n",
              "      <th>High</th>\n",
              "      <th>Low</th>\n",
              "      <th>Close</th>\n",
              "      <th>Volume</th>\n",
              "      <th>Turnover</th>\n",
              "      <th>Index_Name</th>\n",
              "    </tr>\n",
              "    <tr>\n",
              "      <th>Date</th>\n",
              "      <th></th>\n",
              "      <th></th>\n",
              "      <th></th>\n",
              "      <th></th>\n",
              "      <th></th>\n",
              "      <th></th>\n",
              "      <th></th>\n",
              "    </tr>\n",
              "  </thead>\n",
              "  <tbody>\n",
              "    <tr>\n",
              "      <th>2019-01-01</th>\n",
              "      <td>27231.40</td>\n",
              "      <td>27430.55</td>\n",
              "      <td>27019.05</td>\n",
              "      <td>27392.40</td>\n",
              "      <td>116379065.0</td>\n",
              "      <td>3.497390e+10</td>\n",
              "      <td>NIFTY BANK</td>\n",
              "    </tr>\n",
              "    <tr>\n",
              "      <th>2019-01-02</th>\n",
              "      <td>27297.00</td>\n",
              "      <td>27397.55</td>\n",
              "      <td>27077.60</td>\n",
              "      <td>27174.70</td>\n",
              "      <td>176599164.0</td>\n",
              "      <td>4.422440e+10</td>\n",
              "      <td>NIFTY BANK</td>\n",
              "    </tr>\n",
              "    <tr>\n",
              "      <th>2019-01-03</th>\n",
              "      <td>27181.60</td>\n",
              "      <td>27206.20</td>\n",
              "      <td>26923.75</td>\n",
              "      <td>26959.85</td>\n",
              "      <td>151201387.0</td>\n",
              "      <td>4.032830e+10</td>\n",
              "      <td>NIFTY BANK</td>\n",
              "    </tr>\n",
              "    <tr>\n",
              "      <th>2019-01-04</th>\n",
              "      <td>26999.70</td>\n",
              "      <td>27274.50</td>\n",
              "      <td>26926.10</td>\n",
              "      <td>27195.00</td>\n",
              "      <td>189451222.0</td>\n",
              "      <td>4.440790e+10</td>\n",
              "      <td>NIFTY BANK</td>\n",
              "    </tr>\n",
              "    <tr>\n",
              "      <th>2019-01-07</th>\n",
              "      <td>27378.65</td>\n",
              "      <td>27477.80</td>\n",
              "      <td>27279.55</td>\n",
              "      <td>27304.55</td>\n",
              "      <td>161026470.0</td>\n",
              "      <td>4.112840e+10</td>\n",
              "      <td>NIFTY BANK</td>\n",
              "    </tr>\n",
              "    <tr>\n",
              "      <th>...</th>\n",
              "      <td>...</td>\n",
              "      <td>...</td>\n",
              "      <td>...</td>\n",
              "      <td>...</td>\n",
              "      <td>...</td>\n",
              "      <td>...</td>\n",
              "      <td>...</td>\n",
              "    </tr>\n",
              "    <tr>\n",
              "      <th>2022-09-05</th>\n",
              "      <td>39412.05</td>\n",
              "      <td>39865.20</td>\n",
              "      <td>39407.40</td>\n",
              "      <td>39805.75</td>\n",
              "      <td>214148830.0</td>\n",
              "      <td>5.248400e+10</td>\n",
              "      <td>NIFTY BANK</td>\n",
              "    </tr>\n",
              "    <tr>\n",
              "      <th>2022-09-06</th>\n",
              "      <td>39892.95</td>\n",
              "      <td>40073.75</td>\n",
              "      <td>39564.30</td>\n",
              "      <td>39666.50</td>\n",
              "      <td>210170553.0</td>\n",
              "      <td>4.955610e+10</td>\n",
              "      <td>NIFTY BANK</td>\n",
              "    </tr>\n",
              "    <tr>\n",
              "      <th>2022-09-07</th>\n",
              "      <td>39337.75</td>\n",
              "      <td>39572.05</td>\n",
              "      <td>39258.25</td>\n",
              "      <td>39455.90</td>\n",
              "      <td>138911320.0</td>\n",
              "      <td>4.236120e+10</td>\n",
              "      <td>NIFTY BANK</td>\n",
              "    </tr>\n",
              "    <tr>\n",
              "      <th>2022-09-08</th>\n",
              "      <td>39763.90</td>\n",
              "      <td>40265.75</td>\n",
              "      <td>39706.40</td>\n",
              "      <td>40208.95</td>\n",
              "      <td>203813147.0</td>\n",
              "      <td>5.950430e+10</td>\n",
              "      <td>NIFTY BANK</td>\n",
              "    </tr>\n",
              "    <tr>\n",
              "      <th>2022-09-09</th>\n",
              "      <td>40520.75</td>\n",
              "      <td>40685.95</td>\n",
              "      <td>40280.30</td>\n",
              "      <td>40415.70</td>\n",
              "      <td>207024632.0</td>\n",
              "      <td>6.307150e+10</td>\n",
              "      <td>NIFTY BANK</td>\n",
              "    </tr>\n",
              "  </tbody>\n",
              "</table>\n",
              "<p>916 rows × 7 columns</p>\n",
              "</div>\n",
              "      <button class=\"colab-df-convert\" onclick=\"convertToInteractive('df-bad90f9a-b865-4fc9-9d6b-19a1abf3f7d6')\"\n",
              "              title=\"Convert this dataframe to an interactive table.\"\n",
              "              style=\"display:none;\">\n",
              "        \n",
              "  <svg xmlns=\"http://www.w3.org/2000/svg\" height=\"24px\"viewBox=\"0 0 24 24\"\n",
              "       width=\"24px\">\n",
              "    <path d=\"M0 0h24v24H0V0z\" fill=\"none\"/>\n",
              "    <path d=\"M18.56 5.44l.94 2.06.94-2.06 2.06-.94-2.06-.94-.94-2.06-.94 2.06-2.06.94zm-11 1L8.5 8.5l.94-2.06 2.06-.94-2.06-.94L8.5 2.5l-.94 2.06-2.06.94zm10 10l.94 2.06.94-2.06 2.06-.94-2.06-.94-.94-2.06-.94 2.06-2.06.94z\"/><path d=\"M17.41 7.96l-1.37-1.37c-.4-.4-.92-.59-1.43-.59-.52 0-1.04.2-1.43.59L10.3 9.45l-7.72 7.72c-.78.78-.78 2.05 0 2.83L4 21.41c.39.39.9.59 1.41.59.51 0 1.02-.2 1.41-.59l7.78-7.78 2.81-2.81c.8-.78.8-2.07 0-2.86zM5.41 20L4 18.59l7.72-7.72 1.47 1.35L5.41 20z\"/>\n",
              "  </svg>\n",
              "      </button>\n",
              "      \n",
              "  <style>\n",
              "    .colab-df-container {\n",
              "      display:flex;\n",
              "      flex-wrap:wrap;\n",
              "      gap: 12px;\n",
              "    }\n",
              "\n",
              "    .colab-df-convert {\n",
              "      background-color: #E8F0FE;\n",
              "      border: none;\n",
              "      border-radius: 50%;\n",
              "      cursor: pointer;\n",
              "      display: none;\n",
              "      fill: #1967D2;\n",
              "      height: 32px;\n",
              "      padding: 0 0 0 0;\n",
              "      width: 32px;\n",
              "    }\n",
              "\n",
              "    .colab-df-convert:hover {\n",
              "      background-color: #E2EBFA;\n",
              "      box-shadow: 0px 1px 2px rgba(60, 64, 67, 0.3), 0px 1px 3px 1px rgba(60, 64, 67, 0.15);\n",
              "      fill: #174EA6;\n",
              "    }\n",
              "\n",
              "    [theme=dark] .colab-df-convert {\n",
              "      background-color: #3B4455;\n",
              "      fill: #D2E3FC;\n",
              "    }\n",
              "\n",
              "    [theme=dark] .colab-df-convert:hover {\n",
              "      background-color: #434B5C;\n",
              "      box-shadow: 0px 1px 3px 1px rgba(0, 0, 0, 0.15);\n",
              "      filter: drop-shadow(0px 1px 2px rgba(0, 0, 0, 0.3));\n",
              "      fill: #FFFFFF;\n",
              "    }\n",
              "  </style>\n",
              "\n",
              "      <script>\n",
              "        const buttonEl =\n",
              "          document.querySelector('#df-bad90f9a-b865-4fc9-9d6b-19a1abf3f7d6 button.colab-df-convert');\n",
              "        buttonEl.style.display =\n",
              "          google.colab.kernel.accessAllowed ? 'block' : 'none';\n",
              "\n",
              "        async function convertToInteractive(key) {\n",
              "          const element = document.querySelector('#df-bad90f9a-b865-4fc9-9d6b-19a1abf3f7d6');\n",
              "          const dataTable =\n",
              "            await google.colab.kernel.invokeFunction('convertToInteractive',\n",
              "                                                     [key], {});\n",
              "          if (!dataTable) return;\n",
              "\n",
              "          const docLinkHtml = 'Like what you see? Visit the ' +\n",
              "            '<a target=\"_blank\" href=https://colab.research.google.com/notebooks/data_table.ipynb>data table notebook</a>'\n",
              "            + ' to learn more about interactive tables.';\n",
              "          element.innerHTML = '';\n",
              "          dataTable['output_type'] = 'display_data';\n",
              "          await google.colab.output.renderOutput(dataTable, element);\n",
              "          const docLink = document.createElement('div');\n",
              "          docLink.innerHTML = docLinkHtml;\n",
              "          element.appendChild(docLink);\n",
              "        }\n",
              "      </script>\n",
              "    </div>\n",
              "  </div>\n",
              "  "
            ]
          },
          "metadata": {},
          "execution_count": 51
        }
      ]
    },
    {
      "cell_type": "code",
      "source": [
        "nifty_bank.drop(\"Index_Name\",axis=1,inplace=True)"
      ],
      "metadata": {
        "colab": {
          "base_uri": "https://localhost:8080/"
        },
        "id": "gF0McJu_TwJ2",
        "outputId": "b854253b-d894-4a21-da8f-7b3071147cb7"
      },
      "execution_count": null,
      "outputs": [
        {
          "output_type": "stream",
          "name": "stderr",
          "text": [
            "/usr/local/lib/python3.7/dist-packages/pandas/core/frame.py:4913: SettingWithCopyWarning: \n",
            "A value is trying to be set on a copy of a slice from a DataFrame\n",
            "\n",
            "See the caveats in the documentation: https://pandas.pydata.org/pandas-docs/stable/user_guide/indexing.html#returning-a-view-versus-a-copy\n",
            "  errors=errors,\n"
          ]
        }
      ]
    },
    {
      "cell_type": "code",
      "source": [
        "nifty_bank.iloc[400:].plot(subplots=True)"
      ],
      "metadata": {
        "colab": {
          "base_uri": "https://localhost:8080/",
          "height": 401
        },
        "id": "74f8-pd1T6L-",
        "outputId": "1d4a49e5-61cf-4a05-fe1d-5a00848702c1"
      },
      "execution_count": null,
      "outputs": [
        {
          "output_type": "execute_result",
          "data": {
            "text/plain": [
              "array([<matplotlib.axes._subplots.AxesSubplot object at 0x7ff639374310>,\n",
              "       <matplotlib.axes._subplots.AxesSubplot object at 0x7ff639034750>,\n",
              "       <matplotlib.axes._subplots.AxesSubplot object at 0x7ff639374b90>,\n",
              "       <matplotlib.axes._subplots.AxesSubplot object at 0x7ff6392a6390>,\n",
              "       <matplotlib.axes._subplots.AxesSubplot object at 0x7ff63c2d10d0>,\n",
              "       <matplotlib.axes._subplots.AxesSubplot object at 0x7ff6407bcdd0>],\n",
              "      dtype=object)"
            ]
          },
          "metadata": {},
          "execution_count": 53
        },
        {
          "output_type": "display_data",
          "data": {
            "text/plain": [
              "<Figure size 432x288 with 6 Axes>"
            ],
            "image/png": "[encoded data removed]"
          },
          "metadata": {
            "needs_background": "light"
          }
        }
      ]
    },
    {
      "cell_type": "code",
      "source": [
        "df=nifty_bank"
      ],
      "metadata": {
        "id": "mMx0cTR3URzn"
      },
      "execution_count": null,
      "outputs": []
    },
    {
      "cell_type": "code",
      "source": [
        "column_indices = {name: i for i, name in enumerate(df.columns)}\n",
        "\n",
        "n = len(df)\n",
        "train_df = df[0:int(n*0.7)]\n",
        "val_df = df[int(n*0.7):int(n*0.9)]\n",
        "test_df = df[int(n*0.9):]\n",
        "\n",
        "num_features = df.shape[1]"
      ],
      "metadata": {
        "id": "zRAm-MuVVTQA"
      },
      "execution_count": null,
      "outputs": []
    },
    {
      "cell_type": "code",
      "source": [
        "train_df"
      ],
      "metadata": {
        "colab": {
          "base_uri": "https://localhost:8080/",
          "height": 455
        },
        "id": "4TlEy5s6rg96",
        "outputId": "7c5879b8-49aa-4776-bb26-215d729dd463"
      },
      "execution_count": null,
      "outputs": [
        {
          "output_type": "execute_result",
          "data": {
            "text/plain": [
              "                Open      High       Low     Close       Volume      Turnover\n",
              "Date                                                                         \n",
              "2019-01-01  27231.40  27430.55  27019.05  27392.40  116379065.0  3.497390e+10\n",
              "2019-01-02  27297.00  27397.55  27077.60  27174.70  176599164.0  4.422440e+10\n",
              "2019-01-03  27181.60  27206.20  26923.75  26959.85  151201387.0  4.032830e+10\n",
              "2019-01-04  26999.70  27274.50  26926.10  27195.00  189451222.0  4.440790e+10\n",
              "2019-01-07  27378.65  27477.80  27279.55  27304.55  161026470.0  4.112840e+10\n",
              "...              ...       ...       ...       ...          ...           ...\n",
              "2021-07-27  35029.30  35186.10  34713.55  34797.45  173044876.0  6.639900e+10\n",
              "2021-07-28  34839.45  34841.55  34115.20  34532.90  174745645.0  6.783840e+10\n",
              "2021-07-29  34740.30  34778.15  34495.20  34691.50  195999122.0  5.521610e+10\n",
              "2021-07-30  34698.75  34738.75  34445.40  34584.35  174178173.0  5.836130e+10\n",
              "2021-08-02  34760.90  34861.75  34588.25  34710.00  241611859.0  5.151400e+10\n",
              "\n",
              "[641 rows x 6 columns]"
            ],
            "text/html": [
              "\n",
              "  <div id=\"df-1618305a-56fb-452c-aa14-ee1530b64fd5\">\n",
              "    <div class=\"colab-df-container\">\n",
              "      <div>\n",
              "<style scoped>\n",
              "    .dataframe tbody tr th:only-of-type {\n",
              "        vertical-align: middle;\n",
              "    }\n",
              "\n",
              "    .dataframe tbody tr th {\n",
              "        vertical-align: top;\n",
              "    }\n",
              "\n",
              "    .dataframe thead th {\n",
              "        text-align: right;\n",
              "    }\n",
              "</style>\n",
              "<table border=\"1\" class=\"dataframe\">\n",
              "  <thead>\n",
              "    <tr style=\"text-align: right;\">\n",
              "      <th></th>\n",
              "      <th>Open</th>\n",
              "      <th>High</th>\n",
              "      <th>Low</th>\n",
              "      <th>Close</th>\n",
              "      <th>Volume</th>\n",
              "      <th>Turnover</th>\n",
              "    </tr>\n",
              "    <tr>\n",
              "      <th>Date</th>\n",
              "      <th></th>\n",
              "      <th></th>\n",
              "      <th></th>\n",
              "      <th></th>\n",
              "      <th></th>\n",
              "      <th></th>\n",
              "    </tr>\n",
              "  </thead>\n",
              "  <tbody>\n",
              "    <tr>\n",
              "      <th>2019-01-01</th>\n",
              "      <td>27231.40</td>\n",
              "      <td>27430.55</td>\n",
              "      <td>27019.05</td>\n",
              "      <td>27392.40</td>\n",
              "      <td>116379065.0</td>\n",
              "      <td>3.497390e+10</td>\n",
              "    </tr>\n",
              "    <tr>\n",
              "      <th>2019-01-02</th>\n",
              "      <td>27297.00</td>\n",
              "      <td>27397.55</td>\n",
              "      <td>27077.60</td>\n",
              "      <td>27174.70</td>\n",
              "      <td>176599164.0</td>\n",
              "      <td>4.422440e+10</td>\n",
              "    </tr>\n",
              "    <tr>\n",
              "      <th>2019-01-03</th>\n",
              "      <td>27181.60</td>\n",
              "      <td>27206.20</td>\n",
              "      <td>26923.75</td>\n",
              "      <td>26959.85</td>\n",
              "      <td>151201387.0</td>\n",
              "      <td>4.032830e+10</td>\n",
              "    </tr>\n",
              "    <tr>\n",
              "      <th>2019-01-04</th>\n",
              "      <td>26999.70</td>\n",
              "      <td>27274.50</td>\n",
              "      <td>26926.10</td>\n",
              "      <td>27195.00</td>\n",
              "      <td>189451222.0</td>\n",
              "      <td>4.440790e+10</td>\n",
              "    </tr>\n",
              "    <tr>\n",
              "      <th>2019-01-07</th>\n",
              "      <td>27378.65</td>\n",
              "      <td>27477.80</td>\n",
              "      <td>27279.55</td>\n",
              "      <td>27304.55</td>\n",
              "      <td>161026470.0</td>\n",
              "      <td>4.112840e+10</td>\n",
              "    </tr>\n",
              "    <tr>\n",
              "      <th>...</th>\n",
              "      <td>...</td>\n",
              "      <td>...</td>\n",
              "      <td>...</td>\n",
              "      <td>...</td>\n",
              "      <td>...</td>\n",
              "      <td>...</td>\n",
              "    </tr>\n",
              "    <tr>\n",
              "      <th>2021-07-27</th>\n",
              "      <td>35029.30</td>\n",
              "      <td>35186.10</td>\n",
              "      <td>34713.55</td>\n",
              "      <td>34797.45</td>\n",
              "      <td>173044876.0</td>\n",
              "      <td>6.639900e+10</td>\n",
              "    </tr>\n",
              "    <tr>\n",
              "      <th>2021-07-28</th>\n",
              "      <td>34839.45</td>\n",
              "      <td>34841.55</td>\n",
              "      <td>34115.20</td>\n",
              "      <td>34532.90</td>\n",
              "      <td>174745645.0</td>\n",
              "      <td>6.783840e+10</td>\n",
              "    </tr>\n",
              "    <tr>\n",
              "      <th>2021-07-29</th>\n",
              "      <td>34740.30</td>\n",
              "      <td>34778.15</td>\n",
              "      <td>34495.20</td>\n",
              "      <td>34691.50</td>\n",
              "      <td>195999122.0</td>\n",
              "      <td>5.521610e+10</td>\n",
              "    </tr>\n",
              "    <tr>\n",
              "      <th>2021-07-30</th>\n",
              "      <td>34698.75</td>\n",
              "      <td>34738.75</td>\n",
              "      <td>34445.40</td>\n",
              "      <td>34584.35</td>\n",
              "      <td>174178173.0</td>\n",
              "      <td>5.836130e+10</td>\n",
              "    </tr>\n",
              "    <tr>\n",
              "      <th>2021-08-02</th>\n",
              "      <td>34760.90</td>\n",
              "      <td>34861.75</td>\n",
              "      <td>34588.25</td>\n",
              "      <td>34710.00</td>\n",
              "      <td>241611859.0</td>\n",
              "      <td>5.151400e+10</td>\n",
              "    </tr>\n",
              "  </tbody>\n",
              "</table>\n",
              "<p>641 rows × 6 columns</p>\n",
              "</div>\n",
              "      <button class=\"colab-df-convert\" onclick=\"convertToInteractive('df-1618305a-56fb-452c-aa14-ee1530b64fd5')\"\n",
              "              title=\"Convert this dataframe to an interactive table.\"\n",
              "              style=\"display:none;\">\n",
              "        \n",
              "  <svg xmlns=\"http://www.w3.org/2000/svg\" height=\"24px\"viewBox=\"0 0 24 24\"\n",
              "       width=\"24px\">\n",
              "    <path d=\"M0 0h24v24H0V0z\" fill=\"none\"/>\n",
              "    <path d=\"M18.56 5.44l.94 2.06.94-2.06 2.06-.94-2.06-.94-.94-2.06-.94 2.06-2.06.94zm-11 1L8.5 8.5l.94-2.06 2.06-.94-2.06-.94L8.5 2.5l-.94 2.06-2.06.94zm10 10l.94 2.06.94-2.06 2.06-.94-2.06-.94-.94-2.06-.94 2.06-2.06.94z\"/><path d=\"M17.41 7.96l-1.37-1.37c-.4-.4-.92-.59-1.43-.59-.52 0-1.04.2-1.43.59L10.3 9.45l-7.72 7.72c-.78.78-.78 2.05 0 2.83L4 21.41c.39.39.9.59 1.41.59.51 0 1.02-.2 1.41-.59l7.78-7.78 2.81-2.81c.8-.78.8-2.07 0-2.86zM5.41 20L4 18.59l7.72-7.72 1.47 1.35L5.41 20z\"/>\n",
              "  </svg>\n",
              "      </button>\n",
              "      \n",
              "  <style>\n",
              "    .colab-df-container {\n",
              "      display:flex;\n",
              "      flex-wrap:wrap;\n",
              "      gap: 12px;\n",
              "    }\n",
              "\n",
              "    .colab-df-convert {\n",
              "      background-color: #E8F0FE;\n",
              "      border: none;\n",
              "      border-radius: 50%;\n",
              "      cursor: pointer;\n",
              "      display: none;\n",
              "      fill: #1967D2;\n",
              "      height: 32px;\n",
              "      padding: 0 0 0 0;\n",
              "      width: 32px;\n",
              "    }\n",
              "\n",
              "    .colab-df-convert:hover {\n",
              "      background-color: #E2EBFA;\n",
              "      box-shadow: 0px 1px 2px rgba(60, 64, 67, 0.3), 0px 1px 3px 1px rgba(60, 64, 67, 0.15);\n",
              "      fill: #174EA6;\n",
              "    }\n",
              "\n",
              "    [theme=dark] .colab-df-convert {\n",
              "      background-color: #3B4455;\n",
              "      fill: #D2E3FC;\n",
              "    }\n",
              "\n",
              "    [theme=dark] .colab-df-convert:hover {\n",
              "      background-color: #434B5C;\n",
              "      box-shadow: 0px 1px 3px 1px rgba(0, 0, 0, 0.15);\n",
              "      filter: drop-shadow(0px 1px 2px rgba(0, 0, 0, 0.3));\n",
              "      fill: #FFFFFF;\n",
              "    }\n",
              "  </style>\n",
              "\n",
              "      <script>\n",
              "        const buttonEl =\n",
              "          document.querySelector('#df-1618305a-56fb-452c-aa14-ee1530b64fd5 button.colab-df-convert');\n",
              "        buttonEl.style.display =\n",
              "          google.colab.kernel.accessAllowed ? 'block' : 'none';\n",
              "\n",
              "        async function convertToInteractive(key) {\n",
              "          const element = document.querySelector('#df-1618305a-56fb-452c-aa14-ee1530b64fd5');\n",
              "          const dataTable =\n",
              "            await google.colab.kernel.invokeFunction('convertToInteractive',\n",
              "                                                     [key], {});\n",
              "          if (!dataTable) return;\n",
              "\n",
              "          const docLinkHtml = 'Like what you see? Visit the ' +\n",
              "            '<a target=\"_blank\" href=https://colab.research.google.com/notebooks/data_table.ipynb>data table notebook</a>'\n",
              "            + ' to learn more about interactive tables.';\n",
              "          element.innerHTML = '';\n",
              "          dataTable['output_type'] = 'display_data';\n",
              "          await google.colab.output.renderOutput(dataTable, element);\n",
              "          const docLink = document.createElement('div');\n",
              "          docLink.innerHTML = docLinkHtml;\n",
              "          element.appendChild(docLink);\n",
              "        }\n",
              "      </script>\n",
              "    </div>\n",
              "  </div>\n",
              "  "
            ]
          },
          "metadata": {},
          "execution_count": 56
        }
      ]
    },
    {
      "cell_type": "code",
      "source": [
        "test_df"
      ],
      "metadata": {
        "colab": {
          "base_uri": "https://localhost:8080/",
          "height": 455
        },
        "id": "8RIEEVE-rldV",
        "outputId": "01317860-7ff9-4ea2-cba5-823da7a4b14f"
      },
      "execution_count": null,
      "outputs": [
        {
          "output_type": "execute_result",
          "data": {
            "text/plain": [
              "                Open      High       Low     Close       Volume      Turnover\n",
              "Date                                                                         \n",
              "2022-04-29  36474.05  36718.80  35978.95  36088.15  172738822.0  8.503430e+10\n",
              "2022-05-02  35627.60  36235.25  35618.20  36163.75  170186563.0  6.323800e+10\n",
              "2022-05-04  36266.15  36309.30  35127.85  35264.55  214565013.0  7.349130e+10\n",
              "2022-05-05  35705.35  35934.85  35133.80  35232.85  167319447.0  5.571330e+10\n",
              "2022-05-06  34569.10  34797.95  34353.20  34591.20  199208045.0  6.569780e+10\n",
              "...              ...       ...       ...       ...          ...           ...\n",
              "2022-09-05  39412.05  39865.20  39407.40  39805.75  214148830.0  5.248400e+10\n",
              "2022-09-06  39892.95  40073.75  39564.30  39666.50  210170553.0  4.955610e+10\n",
              "2022-09-07  39337.75  39572.05  39258.25  39455.90  138911320.0  4.236120e+10\n",
              "2022-09-08  39763.90  40265.75  39706.40  40208.95  203813147.0  5.950430e+10\n",
              "2022-09-09  40520.75  40685.95  40280.30  40415.70  207024632.0  6.307150e+10\n",
              "\n",
              "[92 rows x 6 columns]"
            ],
            "text/html": [
              "\n",
              "  <div id=\"df-c98e2c6c-2788-403a-ba46-e4a9acda94fc\">\n",
              "    <div class=\"colab-df-container\">\n",
              "      <div>\n",
              "<style scoped>\n",
              "    .dataframe tbody tr th:only-of-type {\n",
              "        vertical-align: middle;\n",
              "    }\n",
              "\n",
              "    .dataframe tbody tr th {\n",
              "        vertical-align: top;\n",
              "    }\n",
              "\n",
              "    .dataframe thead th {\n",
              "        text-align: right;\n",
              "    }\n",
              "</style>\n",
              "<table border=\"1\" class=\"dataframe\">\n",
              "  <thead>\n",
              "    <tr style=\"text-align: right;\">\n",
              "      <th></th>\n",
              "      <th>Open</th>\n",
              "      <th>High</th>\n",
              "      <th>Low</th>\n",
              "      <th>Close</th>\n",
              "      <th>Volume</th>\n",
              "      <th>Turnover</th>\n",
              "    </tr>\n",
              "    <tr>\n",
              "      <th>Date</th>\n",
              "      <th></th>\n",
              "      <th></th>\n",
              "      <th></th>\n",
              "      <th></th>\n",
              "      <th></th>\n",
              "      <th></th>\n",
              "    </tr>\n",
              "  </thead>\n",
              "  <tbody>\n",
              "    <tr>\n",
              "      <th>2022-04-29</th>\n",
              "      <td>36474.05</td>\n",
              "      <td>36718.80</td>\n",
              "      <td>35978.95</td>\n",
              "      <td>36088.15</td>\n",
              "      <td>172738822.0</td>\n",
              "      <td>8.503430e+10</td>\n",
              "    </tr>\n",
              "    <tr>\n",
              "      <th>2022-05-02</th>\n",
              "      <td>35627.60</td>\n",
              "      <td>36235.25</td>\n",
              "      <td>35618.20</td>\n",
              "      <td>36163.75</td>\n",
              "      <td>170186563.0</td>\n",
              "      <td>6.323800e+10</td>\n",
              "    </tr>\n",
              "    <tr>\n",
              "      <th>2022-05-04</th>\n",
              "      <td>36266.15</td>\n",
              "      <td>36309.30</td>\n",
              "      <td>35127.85</td>\n",
              "      <td>35264.55</td>\n",
              "      <td>214565013.0</td>\n",
              "      <td>7.349130e+10</td>\n",
              "    </tr>\n",
              "    <tr>\n",
              "      <th>2022-05-05</th>\n",
              "      <td>35705.35</td>\n",
              "      <td>35934.85</td>\n",
              "      <td>35133.80</td>\n",
              "      <td>35232.85</td>\n",
              "      <td>167319447.0</td>\n",
              "      <td>5.571330e+10</td>\n",
              "    </tr>\n",
              "    <tr>\n",
              "      <th>2022-05-06</th>\n",
              "      <td>34569.10</td>\n",
              "      <td>34797.95</td>\n",
              "      <td>34353.20</td>\n",
              "      <td>34591.20</td>\n",
              "      <td>199208045.0</td>\n",
              "      <td>6.569780e+10</td>\n",
              "    </tr>\n",
              "    <tr>\n",
              "      <th>...</th>\n",
              "      <td>...</td>\n",
              "      <td>...</td>\n",
              "      <td>...</td>\n",
              "      <td>...</td>\n",
              "      <td>...</td>\n",
              "      <td>...</td>\n",
              "    </tr>\n",
              "    <tr>\n",
              "      <th>2022-09-05</th>\n",
              "      <td>39412.05</td>\n",
              "      <td>39865.20</td>\n",
              "      <td>39407.40</td>\n",
              "      <td>39805.75</td>\n",
              "      <td>214148830.0</td>\n",
              "      <td>5.248400e+10</td>\n",
              "    </tr>\n",
              "    <tr>\n",
              "      <th>2022-09-06</th>\n",
              "      <td>39892.95</td>\n",
              "      <td>40073.75</td>\n",
              "      <td>39564.30</td>\n",
              "      <td>39666.50</td>\n",
              "      <td>210170553.0</td>\n",
              "      <td>4.955610e+10</td>\n",
              "    </tr>\n",
              "    <tr>\n",
              "      <th>2022-09-07</th>\n",
              "      <td>39337.75</td>\n",
              "      <td>39572.05</td>\n",
              "      <td>39258.25</td>\n",
              "      <td>39455.90</td>\n",
              "      <td>138911320.0</td>\n",
              "      <td>4.236120e+10</td>\n",
              "    </tr>\n",
              "    <tr>\n",
              "      <th>2022-09-08</th>\n",
              "      <td>39763.90</td>\n",
              "      <td>40265.75</td>\n",
              "      <td>39706.40</td>\n",
              "      <td>40208.95</td>\n",
              "      <td>203813147.0</td>\n",
              "      <td>5.950430e+10</td>\n",
              "    </tr>\n",
              "    <tr>\n",
              "      <th>2022-09-09</th>\n",
              "      <td>40520.75</td>\n",
              "      <td>40685.95</td>\n",
              "      <td>40280.30</td>\n",
              "      <td>40415.70</td>\n",
              "      <td>207024632.0</td>\n",
              "      <td>6.307150e+10</td>\n",
              "    </tr>\n",
              "  </tbody>\n",
              "</table>\n",
              "<p>92 rows × 6 columns</p>\n",
              "</div>\n",
              "      <button class=\"colab-df-convert\" onclick=\"convertToInteractive('df-c98e2c6c-2788-403a-ba46-e4a9acda94fc')\"\n",
              "              title=\"Convert this dataframe to an interactive table.\"\n",
              "              style=\"display:none;\">\n",
              "        \n",
              "  <svg xmlns=\"http://www.w3.org/2000/svg\" height=\"24px\"viewBox=\"0 0 24 24\"\n",
              "       width=\"24px\">\n",
              "    <path d=\"M0 0h24v24H0V0z\" fill=\"none\"/>\n",
              "    <path d=\"M18.56 5.44l.94 2.06.94-2.06 2.06-.94-2.06-.94-.94-2.06-.94 2.06-2.06.94zm-11 1L8.5 8.5l.94-2.06 2.06-.94-2.06-.94L8.5 2.5l-.94 2.06-2.06.94zm10 10l.94 2.06.94-2.06 2.06-.94-2.06-.94-.94-2.06-.94 2.06-2.06.94z\"/><path d=\"M17.41 7.96l-1.37-1.37c-.4-.4-.92-.59-1.43-.59-.52 0-1.04.2-1.43.59L10.3 9.45l-7.72 7.72c-.78.78-.78 2.05 0 2.83L4 21.41c.39.39.9.59 1.41.59.51 0 1.02-.2 1.41-.59l7.78-7.78 2.81-2.81c.8-.78.8-2.07 0-2.86zM5.41 20L4 18.59l7.72-7.72 1.47 1.35L5.41 20z\"/>\n",
              "  </svg>\n",
              "      </button>\n",
              "      \n",
              "  <style>\n",
              "    .colab-df-container {\n",
              "      display:flex;\n",
              "      flex-wrap:wrap;\n",
              "      gap: 12px;\n",
              "    }\n",
              "\n",
              "    .colab-df-convert {\n",
              "      background-color: #E8F0FE;\n",
              "      border: none;\n",
              "      border-radius: 50%;\n",
              "      cursor: pointer;\n",
              "      display: none;\n",
              "      fill: #1967D2;\n",
              "      height: 32px;\n",
              "      padding: 0 0 0 0;\n",
              "      width: 32px;\n",
              "    }\n",
              "\n",
              "    .colab-df-convert:hover {\n",
              "      background-color: #E2EBFA;\n",
              "      box-shadow: 0px 1px 2px rgba(60, 64, 67, 0.3), 0px 1px 3px 1px rgba(60, 64, 67, 0.15);\n",
              "      fill: #174EA6;\n",
              "    }\n",
              "\n",
              "    [theme=dark] .colab-df-convert {\n",
              "      background-color: #3B4455;\n",
              "      fill: #D2E3FC;\n",
              "    }\n",
              "\n",
              "    [theme=dark] .colab-df-convert:hover {\n",
              "      background-color: #434B5C;\n",
              "      box-shadow: 0px 1px 3px 1px rgba(0, 0, 0, 0.15);\n",
              "      filter: drop-shadow(0px 1px 2px rgba(0, 0, 0, 0.3));\n",
              "      fill: #FFFFFF;\n",
              "    }\n",
              "  </style>\n",
              "\n",
              "      <script>\n",
              "        const buttonEl =\n",
              "          document.querySelector('#df-c98e2c6c-2788-403a-ba46-e4a9acda94fc button.colab-df-convert');\n",
              "        buttonEl.style.display =\n",
              "          google.colab.kernel.accessAllowed ? 'block' : 'none';\n",
              "\n",
              "        async function convertToInteractive(key) {\n",
              "          const element = document.querySelector('#df-c98e2c6c-2788-403a-ba46-e4a9acda94fc');\n",
              "          const dataTable =\n",
              "            await google.colab.kernel.invokeFunction('convertToInteractive',\n",
              "                                                     [key], {});\n",
              "          if (!dataTable) return;\n",
              "\n",
              "          const docLinkHtml = 'Like what you see? Visit the ' +\n",
              "            '<a target=\"_blank\" href=https://colab.research.google.com/notebooks/data_table.ipynb>data table notebook</a>'\n",
              "            + ' to learn more about interactive tables.';\n",
              "          element.innerHTML = '';\n",
              "          dataTable['output_type'] = 'display_data';\n",
              "          await google.colab.output.renderOutput(dataTable, element);\n",
              "          const docLink = document.createElement('div');\n",
              "          docLink.innerHTML = docLinkHtml;\n",
              "          element.appendChild(docLink);\n",
              "        }\n",
              "      </script>\n",
              "    </div>\n",
              "  </div>\n",
              "  "
            ]
          },
          "metadata": {},
          "execution_count": 57
        }
      ]
    },
    {
      "cell_type": "code",
      "source": [
        "class WindowGenerator():\n",
        "  def __init__(self, input_width, label_width, shift,\n",
        "               train_df=train_df, val_df=val_df, test_df=test_df,\n",
        "               label_columns=None):\n",
        "    # Store the raw data.\n",
        "    self.train_df = train_df\n",
        "    self.val_df = val_df\n",
        "    self.test_df = test_df\n",
        "\n",
        "    # Work out the label column indices.\n",
        "    self.label_columns = label_columns\n",
        "    if label_columns is not None:\n",
        "      self.label_columns_indices = {name: i for i, name in\n",
        "                                    enumerate(label_columns)}\n",
        "    self.column_indices = {name: i for i, name in\n",
        "                           enumerate(train_df.columns)}\n",
        "\n",
        "    # Work out the window parameters.\n",
        "    self.input_width = input_width\n",
        "    self.label_width = label_width\n",
        "    self.shift = shift\n",
        "\n",
        "    self.total_window_size = input_width + shift\n",
        "\n",
        "    self.input_slice = slice(0, input_width)\n",
        "    self.input_indices = np.arange(self.total_window_size)[self.input_slice]\n",
        "\n",
        "    self.label_start = self.total_window_size - self.label_width\n",
        "    self.labels_slice = slice(self.label_start, None)\n",
        "    self.label_indices = np.arange(self.total_window_size)[self.labels_slice]\n",
        "\n",
        "  def __repr__(self):\n",
        "    return '\\n'.join([\n",
        "        f'Total window size: {self.total_window_size}',\n",
        "        f'Input indices: {self.input_indices}',\n",
        "        f'Label indices: {self.label_indices}',\n",
        "        f'Label column name(s): {self.label_columns}'])"
      ],
      "metadata": {
        "id": "aNNyQgeqVZH6"
      },
      "execution_count": null,
      "outputs": []
    },
    {
      "cell_type": "code",
      "source": [
        "w1 = WindowGenerator(input_width=24, label_width=1, shift=24,\n",
        "                     label_columns=[\"Close\"])\n",
        "w1"
      ],
      "metadata": {
        "colab": {
          "base_uri": "https://localhost:8080/"
        },
        "id": "wDPALEllWuJh",
        "outputId": "11437b1e-1be6-4ca4-b132-9625a9bafe0b"
      },
      "execution_count": null,
      "outputs": [
        {
          "output_type": "execute_result",
          "data": {
            "text/plain": [
              "Total window size: 48\n",
              "Input indices: [ 0  1  2  3  4  5  6  7  8  9 10 11 12 13 14 15 16 17 18 19 20 21 22 23]\n",
              "Label indices: [47]\n",
              "Label column name(s): ['Close']"
            ]
          },
          "metadata": {},
          "execution_count": 59
        }
      ]
    },
    {
      "cell_type": "code",
      "source": [
        "w2 = WindowGenerator(input_width=6, label_width=1, shift=1,\n",
        "                     label_columns=[\"Close\"])\n",
        "w2"
      ],
      "metadata": {
        "colab": {
          "base_uri": "https://localhost:8080/"
        },
        "id": "u5PJScitsG-G",
        "outputId": "6a4f6e68-bce4-4857-92f0-2fb3725665ee"
      },
      "execution_count": null,
      "outputs": [
        {
          "output_type": "execute_result",
          "data": {
            "text/plain": [
              "Total window size: 7\n",
              "Input indices: [0 1 2 3 4 5]\n",
              "Label indices: [6]\n",
              "Label column name(s): ['Close']"
            ]
          },
          "metadata": {},
          "execution_count": 160
        }
      ]
    },
    {
      "cell_type": "code",
      "source": [
        "def split_window(self, features):\n",
        "  inputs = features[:, self.input_slice, :]\n",
        "  labels = features[:, self.labels_slice, :]\n",
        "  if self.label_columns is not None:\n",
        "    labels = tf.stack(\n",
        "        [labels[:, :, self.column_indices[name]] for name in self.label_columns],\n",
        "        axis=-1)\n",
        "\n",
        "  # Slicing doesn't preserve static shape information, so set the shapes\n",
        "  # manually. This way the `tf.data.Datasets` are easier to inspect.\n",
        "  inputs.set_shape([None, self.input_width, None])\n",
        "  labels.set_shape([None, self.label_width, None])\n",
        "\n",
        "  return inputs, labels\n",
        "\n",
        "WindowGenerator.split_window = split_window"
      ],
      "metadata": {
        "id": "Zj_gqPvpXBTG"
      },
      "execution_count": null,
      "outputs": []
    },
    {
      "cell_type": "code",
      "source": [
        "# Stack three slices, the length of the total window.\n",
        "example_window = tf.stack([np.array(train_df[:w2.total_window_size]),\n",
        "                           np.array(train_df[100:100+w2.total_window_size]),\n",
        "                           np.array(train_df[200:200+w2.total_window_size])])\n",
        "\n",
        "example_inputs, example_labels = w2.split_window(example_window)\n",
        "\n",
        "print('All shapes are: (batch, time, features)')\n",
        "print(f'Window shape: {example_window.shape}')\n",
        "print(f'Inputs shape: {example_inputs.shape}')\n",
        "print(f'Labels shape: {example_labels.shape}')"
      ],
      "metadata": {
        "colab": {
          "base_uri": "https://localhost:8080/"
        },
        "id": "eR6NBm4MsRiQ",
        "outputId": "a266f998-3691-4c84-fb90-12cc904c1598"
      },
      "execution_count": null,
      "outputs": [
        {
          "output_type": "stream",
          "name": "stdout",
          "text": [
            "All shapes are: (batch, time, features)\n",
            "Window shape: (3, 25, 6)\n",
            "Inputs shape: (3, 24, 6)\n",
            "Labels shape: (3, 1, 1)\n"
          ]
        }
      ]
    },
    {
      "cell_type": "code",
      "source": [
        "w2.example = example_inputs, example_labels"
      ],
      "metadata": {
        "id": "2HiQlDpEsWhA"
      },
      "execution_count": null,
      "outputs": []
    },
    {
      "cell_type": "code",
      "source": [
        "def plot(self, model=None, plot_col='Close', max_subplots=3):\n",
        "  inputs, labels = self.example\n",
        "  plt.figure(figsize=(12, 8))\n",
        "  plot_col_index = self.column_indices[plot_col]\n",
        "  max_n = min(max_subplots, len(inputs))\n",
        "  for n in range(max_n):\n",
        "    plt.subplot(max_n, 1, n+1)\n",
        "    plt.ylabel(f'{plot_col} [normed]')\n",
        "    plt.plot(self.input_indices, inputs[n, :, plot_col_index],\n",
        "             label='Inputs', marker='.', zorder=-10)\n",
        "\n",
        "    if self.label_columns:\n",
        "      label_col_index = self.label_columns_indices.get(plot_col, None)\n",
        "    else:\n",
        "      label_col_index = plot_col_index\n",
        "\n",
        "    if label_col_index is None:\n",
        "      continue\n",
        "\n",
        "    plt.scatter(self.label_indices, labels[n, :, label_col_index],\n",
        "                edgecolors='k', label='Labels', c='#2ca02c', s=64)\n",
        "    if model is not None:\n",
        "      predictions = model(inputs)\n",
        "      plt.scatter(self.label_indices, predictions[n, :, label_col_index],\n",
        "                  marker='X', edgecolors='k', label='Predictions',\n",
        "                  c='#ff7f0e', s=64)\n",
        "\n",
        "    if n == 0:\n",
        "      plt.legend()\n",
        "\n",
        "  plt.xlabel('Time [h]')\n",
        "\n",
        "WindowGenerator.plot = plot"
      ],
      "metadata": {
        "id": "4wm2CziisY7x"
      },
      "execution_count": null,
      "outputs": []
    },
    {
      "cell_type": "code",
      "source": [
        "w2.plot()"
      ],
      "metadata": {
        "colab": {
          "base_uri": "https://localhost:8080/",
          "height": 497
        },
        "id": "ToPx46WasY-N",
        "outputId": "3e78baa0-e253-4ff2-8931-90853a165523"
      },
      "execution_count": null,
      "outputs": [
        {
          "output_type": "display_data",
          "data": {
            "text/plain": [
              "<Figure size 864x576 with 3 Axes>"
            ],
            "image/png": "[encoded data removed]"
          },
          "metadata": {
            "needs_background": "light"
          }
        }
      ]
    },
    {
      "cell_type": "code",
      "source": [
        "w2.plot(plot_col='Close')"
      ],
      "metadata": {
        "colab": {
          "base_uri": "https://localhost:8080/",
          "height": 497
        },
        "id": "ixJ0eBtHsZAz",
        "outputId": "3d3062d6-e83b-46ee-b785-cd680545c844"
      },
      "execution_count": null,
      "outputs": [
        {
          "output_type": "display_data",
          "data": {
            "text/plain": [
              "<Figure size 864x576 with 3 Axes>"
            ],
            "image/png": "[encoded data removed]"
          },
          "metadata": {
            "needs_background": "light"
          }
        }
      ]
    },
    {
      "cell_type": "code",
      "source": [
        "def make_dataset(self, data):\n",
        "  data = np.array(data, dtype=np.float32)\n",
        "  ds = tf.keras.utils.timeseries_dataset_from_array(\n",
        "      data=data,\n",
        "      targets=None,\n",
        "      sequence_length=self.total_window_size,\n",
        "      sequence_stride=1,\n",
        "      shuffle=True,\n",
        "      batch_size=32,)\n",
        "\n",
        "  ds = ds.map(self.split_window)\n",
        "\n",
        "  return ds\n",
        "\n",
        "WindowGenerator.make_dataset = make_dataset"
      ],
      "metadata": {
        "id": "nUqR1ca3Xd7G"
      },
      "execution_count": null,
      "outputs": []
    },
    {
      "cell_type": "code",
      "source": [
        "@property\n",
        "def train(self):\n",
        "  return self.make_dataset(self.train_df)\n",
        "\n",
        "@property\n",
        "def val(self):\n",
        "  return self.make_dataset(self.val_df)\n",
        "\n",
        "@property\n",
        "def test(self):\n",
        "  return self.make_dataset(self.test_df)\n",
        "\n",
        "@property\n",
        "def example(self):\n",
        "  \"\"\"Get and cache an example batch of `inputs, labels` for plotting.\"\"\"\n",
        "  result = getattr(self, '_example', None)\n",
        "  if result is None:\n",
        "    # No example batch was found, so get one from the `.train` dataset\n",
        "    result = next(iter(self.train))\n",
        "    # And cache it for next time\n",
        "    self._example = result\n",
        "  return result\n",
        "\n",
        "WindowGenerator.train = train\n",
        "WindowGenerator.val = val\n",
        "WindowGenerator.test = test\n",
        "WindowGenerator.example = example"
      ],
      "metadata": {
        "id": "EXkofSrmm8kX"
      },
      "execution_count": null,
      "outputs": []
    },
    {
      "cell_type": "code",
      "source": [
        "# Each element is an (inputs, label) pair.\n",
        "w2.train.element_spec"
      ],
      "metadata": {
        "colab": {
          "base_uri": "https://localhost:8080/"
        },
        "id": "PTt9E1Rhn_ik",
        "outputId": "b77b794b-1534-476a-f223-b2a4dd785e91"
      },
      "execution_count": null,
      "outputs": [
        {
          "output_type": "execute_result",
          "data": {
            "text/plain": [
              "(TensorSpec(shape=(None, 24, 6), dtype=tf.float32, name=None),\n",
              " TensorSpec(shape=(None, 1, 1), dtype=tf.float32, name=None))"
            ]
          },
          "metadata": {},
          "execution_count": 101
        }
      ]
    },
    {
      "cell_type": "code",
      "source": [
        "for example_inputs, example_labels in w2.train.take(1):\n",
        "  print(f'Inputs shape (batch, time, features): {example_inputs.shape}')\n",
        "  print(f'Labels shape (batch, time, features): {example_labels.shape}')"
      ],
      "metadata": {
        "colab": {
          "base_uri": "https://localhost:8080/"
        },
        "id": "NYnd378boGwX",
        "outputId": "664c2329-c042-4420-a10d-030d250e1c32"
      },
      "execution_count": null,
      "outputs": [
        {
          "output_type": "stream",
          "name": "stdout",
          "text": [
            "Inputs shape (batch, time, features): (32, 24, 6)\n",
            "Labels shape (batch, time, features): (32, 1, 1)\n"
          ]
        }
      ]
    },
    {
      "cell_type": "code",
      "source": [
        "single_step_window = WindowGenerator(\n",
        "    input_width=1, label_width=1, shift=1,\n",
        "    label_columns=[\"Close\"])\n",
        "single_step_window"
      ],
      "metadata": {
        "colab": {
          "base_uri": "https://localhost:8080/"
        },
        "id": "ZXppbBWxoLN4",
        "outputId": "96a99992-64fa-4bd4-a9ed-bf57a4d7ba16"
      },
      "execution_count": null,
      "outputs": [
        {
          "output_type": "execute_result",
          "data": {
            "text/plain": [
              "Total window size: 2\n",
              "Input indices: [0]\n",
              "Label indices: [1]\n",
              "Label column name(s): ['Close']"
            ]
          },
          "metadata": {},
          "execution_count": 103
        }
      ]
    },
    {
      "cell_type": "code",
      "source": [
        "for example_inputs, example_labels in single_step_window.train.take(1):\n",
        "  print(f'Inputs shape (batch, time, features): {example_inputs.shape}')\n",
        "  print(f'Labels shape (batch, time, features): {example_labels.shape}')"
      ],
      "metadata": {
        "colab": {
          "base_uri": "https://localhost:8080/"
        },
        "id": "B6VjnFySpksa",
        "outputId": "c9dd3679-434a-4198-e52b-5a9ace00a792"
      },
      "execution_count": null,
      "outputs": [
        {
          "output_type": "stream",
          "name": "stdout",
          "text": [
            "Inputs shape (batch, time, features): (32, 1, 6)\n",
            "Labels shape (batch, time, features): (32, 1, 1)\n"
          ]
        }
      ]
    },
    {
      "cell_type": "code",
      "source": [
        "class Baseline(tf.keras.Model):\n",
        "  def __init__(self, label_index=None):\n",
        "    super().__init__()\n",
        "    self.label_index = label_index\n",
        "\n",
        "  def call(self, inputs):\n",
        "    if self.label_index is None:\n",
        "      return inputs\n",
        "    result = inputs[:, :, self.label_index]\n",
        "    return result[:, :, tf.newaxis]"
      ],
      "metadata": {
        "id": "tSTp-ZahoimR"
      },
      "execution_count": null,
      "outputs": []
    },
    {
      "cell_type": "code",
      "source": [
        "baseline = Baseline(label_index=column_indices['Close'])\n",
        "\n",
        "baseline.compile(loss=tf.keras.losses.MeanSquaredError(),\n",
        "                 metrics=[tf.keras.metrics.MeanAbsoluteError()])\n",
        "\n",
        "val_performance = {}\n",
        "performance = {}\n",
        "val_performance['Baseline'] = baseline.evaluate(single_step_window.val)\n",
        "performance['Baseline'] = baseline.evaluate(single_step_window.test, verbose=0)"
      ],
      "metadata": {
        "colab": {
          "base_uri": "https://localhost:8080/"
        },
        "id": "XZPxuhWRov81",
        "outputId": "1bb75f59-a30b-4335-ecf9-908217a5c856"
      },
      "execution_count": null,
      "outputs": [
        {
          "output_type": "stream",
          "name": "stdout",
          "text": [
            "6/6 [==============================] - 0s 3ms/step - loss: 263442.1562 - mean_absolute_error: 376.1015\n"
          ]
        }
      ]
    },
    {
      "cell_type": "code",
      "source": [
        "wide_window = WindowGenerator(\n",
        "    input_width=24, label_width=24, shift=1,\n",
        "    label_columns=['Close'])\n",
        "\n",
        "wide_window"
      ],
      "metadata": {
        "colab": {
          "base_uri": "https://localhost:8080/"
        },
        "id": "6D9-F8ZWo8CZ",
        "outputId": "84f77a23-3130-4a85-f923-d4529c373d69"
      },
      "execution_count": null,
      "outputs": [
        {
          "output_type": "execute_result",
          "data": {
            "text/plain": [
              "Total window size: 25\n",
              "Input indices: [ 0  1  2  3  4  5  6  7  8  9 10 11 12 13 14 15 16 17 18 19 20 21 22 23]\n",
              "Label indices: [ 1  2  3  4  5  6  7  8  9 10 11 12 13 14 15 16 17 18 19 20 21 22 23 24]\n",
              "Label column name(s): ['Close']"
            ]
          },
          "metadata": {},
          "execution_count": 107
        }
      ]
    },
    {
      "cell_type": "code",
      "source": [
        "print('Input shape:', wide_window.example[0].shape)\n",
        "print('Output shape:', baseline(wide_window.example[0]).shape)"
      ],
      "metadata": {
        "colab": {
          "base_uri": "https://localhost:8080/"
        },
        "id": "GPOM7ru_qLJ0",
        "outputId": "d907fdf3-b4d9-4e8c-deda-b6774a7d70a1"
      },
      "execution_count": null,
      "outputs": [
        {
          "output_type": "stream",
          "name": "stdout",
          "text": [
            "Input shape: (32, 24, 6)\n",
            "Output shape: (32, 24, 1)\n"
          ]
        }
      ]
    },
    {
      "cell_type": "code",
      "source": [
        "wide_window.plot(baseline)"
      ],
      "metadata": {
        "colab": {
          "base_uri": "https://localhost:8080/",
          "height": 497
        },
        "id": "JVR5cW3TqQiU",
        "outputId": "f72cc8ae-a9de-4ea0-8b8b-6f5c1669f65d"
      },
      "execution_count": null,
      "outputs": [
        {
          "output_type": "display_data",
          "data": {
            "text/plain": [
              "<Figure size 864x576 with 3 Axes>"
            ],
            "image/png": "[encoded data removed]"
          },
          "metadata": {
            "needs_background": "light"
          }
        }
      ]
    },
    {
      "cell_type": "code",
      "source": [
        "linear = tf.keras.Sequential([\n",
        "    tf.keras.layers.Dense(units=1)\n",
        "])"
      ],
      "metadata": {
        "id": "cQCvdrBmqTQm"
      },
      "execution_count": null,
      "outputs": []
    },
    {
      "cell_type": "code",
      "source": [
        "print('Input shape:', single_step_window.example[0].shape)\n",
        "print('Output shape:', linear(single_step_window.example[0]).shape)"
      ],
      "metadata": {
        "colab": {
          "base_uri": "https://localhost:8080/"
        },
        "id": "N4ucKA9-qiFw",
        "outputId": "97e1d7d2-39ab-4c62-c73b-8334f4b3b1ba"
      },
      "execution_count": null,
      "outputs": [
        {
          "output_type": "stream",
          "name": "stdout",
          "text": [
            "Input shape: (32, 1, 6)\n",
            "Output shape: (32, 1, 1)\n"
          ]
        }
      ]
    },
    {
      "cell_type": "code",
      "source": [
        "single_step_window.example"
      ],
      "metadata": {
        "colab": {
          "base_uri": "https://localhost:8080/"
        },
        "id": "C4SVDPnJK62i",
        "outputId": "6f8e643d-f46a-4d65-844a-027870f85203"
      },
      "execution_count": null,
      "outputs": [
        {
          "output_type": "execute_result",
          "data": {
            "text/plain": [
              "(<tf.Tensor: shape=(32, 1, 6), dtype=float32, numpy=\n",
              " array([[[3.2326949e+04, 3.2329801e+04, 3.1960400e+04, 3.2069250e+04,\n",
              "          2.1758438e+08, 4.5376500e+10]],\n",
              " \n",
              "        [[3.3615898e+04, 3.3990801e+04, 3.3564551e+04, 3.3875102e+04,\n",
              "          3.7422781e+08, 1.0246950e+11]],\n",
              " \n",
              "        [[2.9876699e+04, 2.9886250e+04, 2.9149900e+04, 2.9463150e+04,\n",
              "          3.7427690e+08, 9.2069102e+10]],\n",
              " \n",
              "        [[2.9521600e+04, 2.9812000e+04, 2.9361650e+04, 2.9596100e+04,\n",
              "          1.8574101e+08, 5.8359202e+10]],\n",
              " \n",
              "        [[3.0567650e+04, 3.0913250e+04, 3.0451400e+04, 3.0847051e+04,\n",
              "          1.4514390e+08, 4.1554600e+10]],\n",
              " \n",
              "        [[3.1234900e+04, 3.1700750e+04, 3.1142500e+04, 3.1647650e+04,\n",
              "          2.3916115e+08, 6.5331102e+10]],\n",
              " \n",
              "        [[2.2836949e+04, 2.3036199e+04, 2.2607801e+04, 2.2964801e+04,\n",
              "          2.3609878e+08, 6.2223102e+10]],\n",
              " \n",
              "        [[3.2345949e+04, 3.2345949e+04, 3.2108750e+04, 3.2161650e+04,\n",
              "          2.5140910e+08, 4.7795499e+10]],\n",
              " \n",
              "        [[2.2395199e+04, 2.2439949e+04, 2.2139600e+04, 2.2196350e+04,\n",
              "          2.8909664e+08, 6.4791699e+10]],\n",
              " \n",
              "        [[2.0394750e+04, 2.0866551e+04, 1.9729301e+04, 2.0681449e+04,\n",
              "          4.7503827e+08, 1.2586710e+11]],\n",
              " \n",
              "        [[3.0993449e+04, 3.1304301e+04, 3.0405650e+04, 3.1208400e+04,\n",
              "          3.7159197e+08, 9.3374104e+10]],\n",
              " \n",
              "        [[2.7663949e+04, 2.7995250e+04, 2.6859350e+04, 2.7951350e+04,\n",
              "          5.1921917e+08, 8.9278104e+10]],\n",
              " \n",
              "        [[3.5097449e+04, 3.5584301e+04, 3.4930102e+04, 3.5526648e+04,\n",
              "          3.7988013e+08, 7.4094002e+10]],\n",
              " \n",
              "        [[3.2292250e+04, 3.2293650e+04, 3.2017301e+04, 3.2244250e+04,\n",
              "          2.5884422e+08, 5.7203102e+10]],\n",
              " \n",
              "        [[3.1832750e+04, 3.1916801e+04, 3.1734500e+04, 3.1875949e+04,\n",
              "          4.1756957e+08, 7.8839497e+10]],\n",
              " \n",
              "        [[2.7078100e+04, 2.7189449e+04, 2.6719400e+04, 2.6799301e+04,\n",
              "          1.9374542e+08, 5.6045900e+10]],\n",
              " \n",
              "        [[2.8935750e+04, 2.9406699e+04, 2.8580900e+04, 2.9236000e+04,\n",
              "          3.2001008e+08, 1.1614190e+11]],\n",
              " \n",
              "        [[3.3717102e+04, 3.3959301e+04, 3.3608250e+04, 3.3685199e+04,\n",
              "          3.1036576e+08, 7.1516201e+10]],\n",
              " \n",
              "        [[3.0168650e+04, 3.0415650e+04, 2.9987150e+04, 3.0066250e+04,\n",
              "          1.1864340e+09, 1.5535720e+11]],\n",
              " \n",
              "        [[3.0789750e+04, 3.0870949e+04, 3.0548301e+04, 3.0601449e+04,\n",
              "          1.5624525e+08, 5.0950201e+10]],\n",
              " \n",
              "        [[3.2281650e+04, 3.2328350e+04, 3.2085051e+04, 3.2241449e+04,\n",
              "          4.3693408e+08, 6.1605900e+10]],\n",
              " \n",
              "        [[2.0514750e+04, 2.0530449e+04, 1.9643600e+04, 1.9743750e+04,\n",
              "          3.2880451e+08, 7.6351898e+10]],\n",
              " \n",
              "        [[2.9370400e+04, 2.9623000e+04, 2.8923100e+04, 2.9549750e+04,\n",
              "          3.6936826e+08, 1.1338890e+11]],\n",
              " \n",
              "        [[3.0685500e+04, 3.1275400e+04, 3.0564400e+04, 3.1212551e+04,\n",
              "          2.8276589e+08, 7.9460401e+10]],\n",
              " \n",
              "        [[2.4061600e+04, 2.4074150e+04, 2.3008250e+04, 2.3101150e+04,\n",
              "          4.8190650e+08, 9.5863996e+10]],\n",
              " \n",
              "        [[2.0932350e+04, 2.1141801e+04, 2.0316199e+04, 2.0390449e+04,\n",
              "          5.8785965e+08, 1.1840170e+11]],\n",
              " \n",
              "        [[3.4911852e+04, 3.4937648e+04, 3.4525449e+04, 3.4574000e+04,\n",
              "          3.1540720e+08, 6.1004702e+10]],\n",
              " \n",
              "        [[3.1230199e+04, 3.1505949e+04, 3.1225900e+04, 3.1300600e+04,\n",
              "          1.9888709e+08, 4.5325099e+10]],\n",
              " \n",
              "        [[2.8881400e+04, 2.9559449e+04, 2.8856000e+04, 2.9450150e+04,\n",
              "          2.5711115e+08, 6.4890999e+10]],\n",
              " \n",
              "        [[2.7840100e+04, 2.8227551e+04, 2.7531051e+04, 2.8110449e+04,\n",
              "          3.0359677e+08, 7.1334396e+10]],\n",
              " \n",
              "        [[3.4548898e+04, 3.5413148e+04, 3.4238898e+04, 3.5344801e+04,\n",
              "          8.2967181e+08, 1.7326580e+11]],\n",
              " \n",
              "        [[3.0071650e+04, 3.0545850e+04, 3.0007801e+04, 3.0402199e+04,\n",
              "          3.0001334e+08, 6.5896702e+10]]], dtype=float32)>,\n",
              " <tf.Tensor: shape=(32, 1, 1), dtype=float32, numpy=\n",
              " array([[[31237.15]],\n",
              " \n",
              "        [[33303.9 ]],\n",
              " \n",
              "        [[29448.75]],\n",
              " \n",
              "        [[29767.85]],\n",
              " \n",
              "        [[31162.35]],\n",
              " \n",
              "        [[31597.9 ]],\n",
              " \n",
              "        [[23191.35]],\n",
              " \n",
              "        [[32102.9 ]],\n",
              " \n",
              "        [[21679.4 ]],\n",
              " \n",
              "        [[20522.65]],\n",
              " \n",
              "        [[31112.7 ]],\n",
              " \n",
              "        [[28126.15]],\n",
              " \n",
              "        [[35337.2 ]],\n",
              " \n",
              "        [[32241.45]],\n",
              " \n",
              "        [[32122.95]],\n",
              " \n",
              "        [[26789.9 ]],\n",
              " \n",
              "        [[29024.2 ]],\n",
              " \n",
              "        [[33334.55]],\n",
              " \n",
              "        [[30330.55]],\n",
              " \n",
              "        [[30445.95]],\n",
              " \n",
              "        [[32384.95]],\n",
              " \n",
              "        [[19271.75]],\n",
              " \n",
              "        [[29609.05]],\n",
              " \n",
              "        [[31647.65]],\n",
              " \n",
              "        [[22155.15]],\n",
              " \n",
              "        [[21034.5 ]],\n",
              " \n",
              "        [[34827.  ]],\n",
              " \n",
              "        [[31492.9 ]],\n",
              " \n",
              "        [[30759.7 ]],\n",
              " \n",
              "        [[28431.9 ]],\n",
              " \n",
              "        [[35654.5 ]],\n",
              " \n",
              "        [[30880.95]]], dtype=float32)>)"
            ]
          },
          "metadata": {},
          "execution_count": 113
        }
      ]
    },
    {
      "cell_type": "code",
      "source": [
        "MAX_EPOCHS = 20\n",
        "\n",
        "def compile_and_fit(model, window, patience=2):\n",
        "  early_stopping = tf.keras.callbacks.EarlyStopping(monitor='val_loss',\n",
        "                                                    patience=patience,\n",
        "                                                    mode='min')\n",
        "\n",
        "  model.compile(loss=tf.keras.losses.MeanSquaredError(),\n",
        "                optimizer=tf.keras.optimizers.Adam(),\n",
        "                metrics=[tf.keras.metrics.MeanAbsoluteError()])\n",
        "\n",
        "  history = model.fit(window.train, epochs=MAX_EPOCHS,\n",
        "                      validation_data=window.val,\n",
        "                      callbacks=[early_stopping])\n",
        "  return history"
      ],
      "metadata": {
        "id": "z-YMmWCiqkwp"
      },
      "execution_count": null,
      "outputs": []
    },
    {
      "cell_type": "code",
      "source": [
        "history = compile_and_fit(linear, wide_window)\n",
        "\n",
        "val_performance['Linear'] = linear.evaluate(single_step_window.val)\n",
        "performance['Linear'] = linear.evaluate(single_step_window.test, verbose=0)"
      ],
      "metadata": {
        "colab": {
          "base_uri": "https://localhost:8080/"
        },
        "id": "k-iIyBp2qwUq",
        "outputId": "0c2d75e1-3a96-4594-927a-88a66a057b55"
      },
      "execution_count": null,
      "outputs": [
        {
          "output_type": "stream",
          "name": "stdout",
          "text": [
            "Epoch 1/20\n",
            "20/20 [==============================] - 1s 13ms/step - loss: nan - mean_absolute_error: nan - val_loss: nan - val_mean_absolute_error: nan\n",
            "Epoch 2/20\n",
            "20/20 [==============================] - 0s 7ms/step - loss: nan - mean_absolute_error: nan - val_loss: nan - val_mean_absolute_error: nan\n",
            "6/6 [==============================] - 0s 3ms/step - loss: nan - mean_absolute_error: nan\n"
          ]
        }
      ]
    },
    {
      "cell_type": "code",
      "source": [
        "wide_window.plot(linear)"
      ],
      "metadata": {
        "colab": {
          "base_uri": "https://localhost:8080/",
          "height": 497
        },
        "id": "irVgz9spuTJC",
        "outputId": "3f238dab-a0fd-4ea6-c3e6-04a20acef752"
      },
      "execution_count": null,
      "outputs": [
        {
          "output_type": "display_data",
          "data": {
            "text/plain": [
              "<Figure size 864x576 with 3 Axes>"
            ],
            "image/png": "[encoded data removed]"
          },
          "metadata": {
            "needs_background": "light"
          }
        }
      ]
    },
    {
      "cell_type": "code",
      "source": [
        "dense = tf.keras.Sequential([\n",
        "    tf.keras.layers.Dense(units=64, activation='relu'),\n",
        "    tf.keras.layers.Dense(units=64, activation='relu'),\n",
        "    tf.keras.layers.Dense(units=1)\n",
        "])\n",
        "\n",
        "history = compile_and_fit(dense, single_step_window)\n",
        "\n",
        "val_performance['Dense'] = dense.evaluate(single_step_window.val)\n",
        "performance['Dense'] = dense.evaluate(single_step_window.test, verbose=0)"
      ],
      "metadata": {
        "colab": {
          "base_uri": "https://localhost:8080/"
        },
        "id": "dYnnKm2Zqy75",
        "outputId": "1c64f1fe-54be-4875-be18-bbb780a05efd"
      },
      "execution_count": null,
      "outputs": [
        {
          "output_type": "stream",
          "name": "stdout",
          "text": [
            "Epoch 1/20\n",
            "20/20 [==============================] - 1s 16ms/step - loss: nan - mean_absolute_error: nan - val_loss: nan - val_mean_absolute_error: nan\n",
            "Epoch 2/20\n",
            "20/20 [==============================] - 0s 9ms/step - loss: nan - mean_absolute_error: nan - val_loss: nan - val_mean_absolute_error: nan\n",
            "6/6 [==============================] - 0s 3ms/step - loss: nan - mean_absolute_error: nan\n"
          ]
        }
      ]
    },
    {
      "cell_type": "code",
      "source": [
        "CONV_WIDTH = 3\n",
        "conv_window = WindowGenerator(\n",
        "    input_width=CONV_WIDTH,\n",
        "    label_width=1,\n",
        "    shift=1,\n",
        "    label_columns=['Close'])\n",
        "\n",
        "conv_window"
      ],
      "metadata": {
        "colab": {
          "base_uri": "https://localhost:8080/"
        },
        "id": "Ll0e-78FrKzy",
        "outputId": "35f6fb8d-ae98-4bb6-9249-4685458ad459"
      },
      "execution_count": null,
      "outputs": [
        {
          "output_type": "execute_result",
          "data": {
            "text/plain": [
              "Total window size: 4\n",
              "Input indices: [0 1 2]\n",
              "Label indices: [3]\n",
              "Label column name(s): ['Close']"
            ]
          },
          "metadata": {},
          "execution_count": 118
        }
      ]
    },
    {
      "cell_type": "code",
      "source": [
        "conv_window.plot()\n",
        "plt.title(\"Given 3 hours of inputs, predict 1 hour into the future.\")"
      ],
      "metadata": {
        "colab": {
          "base_uri": "https://localhost:8080/",
          "height": 514
        },
        "id": "T8JrkI6bvCsT",
        "outputId": "d79c325f-db5a-490b-b32a-b4d12caaa3a5"
      },
      "execution_count": null,
      "outputs": [
        {
          "output_type": "execute_result",
          "data": {
            "text/plain": [
              "Text(0.5, 1.0, 'Given 3 hours of inputs, predict 1 hour into the future.')"
            ]
          },
          "metadata": {},
          "execution_count": 119
        },
        {
          "output_type": "display_data",
          "data": {
            "text/plain": [
              "<Figure size 864x576 with 3 Axes>"
            ],
            "image/png": "[encoded data removed]"
          },
          "metadata": {
            "needs_background": "light"
          }
        }
      ]
    },
    {
      "cell_type": "code",
      "source": [
        "multi_step_dense = tf.keras.Sequential([\n",
        "    # Shape: (time, features) => (time*features)\n",
        "    tf.keras.layers.Flatten(),\n",
        "    tf.keras.layers.Dense(units=32, activation='relu'),\n",
        "    tf.keras.layers.Dense(units=32, activation='relu'),\n",
        "    tf.keras.layers.Dense(units=1),\n",
        "    # Add back the time dimension.\n",
        "    # Shape: (outputs) => (1, outputs)\n",
        "    tf.keras.layers.Reshape([1, -1]),\n",
        "])"
      ],
      "metadata": {
        "id": "vdAz93FSvIzA"
      },
      "execution_count": null,
      "outputs": []
    },
    {
      "cell_type": "code",
      "source": [
        "history = compile_and_fit(multi_step_dense, conv_window)\n",
        "\n",
        "IPython.display.clear_output()\n",
        "val_performance['Multi step dense'] = multi_step_dense.evaluate(conv_window.val)\n",
        "performance['Multi step dense'] = multi_step_dense.evaluate(conv_window.test, verbose=0)"
      ],
      "metadata": {
        "colab": {
          "base_uri": "https://localhost:8080/"
        },
        "id": "4xyqulCDv-2l",
        "outputId": "4bdc438c-5021-4350-bec7-ad00f0955284"
      },
      "execution_count": null,
      "outputs": [
        {
          "output_type": "stream",
          "name": "stdout",
          "text": [
            "6/6 [==============================] - 0s 3ms/step - loss: nan - mean_absolute_error: nan\n"
          ]
        }
      ]
    },
    {
      "cell_type": "code",
      "source": [
        "conv_window.plot(multi_step_dense)"
      ],
      "metadata": {
        "colab": {
          "base_uri": "https://localhost:8080/",
          "height": 497
        },
        "id": "5JKX4C9DwBd1",
        "outputId": "fc7eb4dd-f16e-4dc0-e764-4b7da5efb785"
      },
      "execution_count": null,
      "outputs": [
        {
          "output_type": "display_data",
          "data": {
            "text/plain": [
              "<Figure size 864x576 with 3 Axes>"
            ],
            "image/png": "[encoded data removed]"
          },
          "metadata": {
            "needs_background": "light"
          }
        }
      ]
    },
    {
      "cell_type": "code",
      "source": [
        "conv_model = tf.keras.Sequential([\n",
        "    tf.keras.layers.Conv1D(filters=32,\n",
        "                           kernel_size=(CONV_WIDTH,),\n",
        "                           activation='relu'),\n",
        "    tf.keras.layers.Dense(units=32, activation='relu'),\n",
        "    tf.keras.layers.Dense(units=1),\n",
        "])"
      ],
      "metadata": {
        "id": "zQD34t1uwFdc"
      },
      "execution_count": null,
      "outputs": []
    },
    {
      "cell_type": "code",
      "source": [
        "print(\"Conv model on `conv_window`\")\n",
        "print('Input shape:', conv_window.example[0].shape)\n",
        "print('Output shape:', conv_model(conv_window.example[0]).shape)"
      ],
      "metadata": {
        "colab": {
          "base_uri": "https://localhost:8080/"
        },
        "id": "Em6pxfOCTZ-V",
        "outputId": "7418dbf5-f5b1-4516-e31c-18fb729bbcdd"
      },
      "execution_count": null,
      "outputs": [
        {
          "output_type": "stream",
          "name": "stdout",
          "text": [
            "Conv model on `conv_window`\n",
            "Input shape: (32, 3, 6)\n",
            "Output shape: (32, 1, 1)\n"
          ]
        }
      ]
    },
    {
      "cell_type": "code",
      "source": [
        "history = compile_and_fit(conv_model, conv_window)\n",
        "\n",
        "IPython.display.clear_output()\n",
        "val_performance['Conv'] = conv_model.evaluate(conv_window.val)\n",
        "performance['Conv'] = conv_model.evaluate(conv_window.test, verbose=0)"
      ],
      "metadata": {
        "colab": {
          "base_uri": "https://localhost:8080/"
        },
        "id": "7F_WimBtTbnW",
        "outputId": "3a6c8f9d-af2b-4642-8d5e-6011aa6de5e2"
      },
      "execution_count": null,
      "outputs": [
        {
          "output_type": "stream",
          "name": "stdout",
          "text": [
            "6/6 [==============================] - 0s 3ms/step - loss: nan - mean_absolute_error: nan\n"
          ]
        }
      ]
    },
    {
      "cell_type": "code",
      "source": [
        "print(\"Wide window\")\n",
        "print('Input shape:', wide_window.example[0].shape)\n",
        "print('Labels shape:', wide_window.example[1].shape)\n",
        "print('Output shape:', conv_model(wide_window.example[0]).shape)"
      ],
      "metadata": {
        "colab": {
          "base_uri": "https://localhost:8080/"
        },
        "id": "i_bydAjWTgry",
        "outputId": "3e6a622d-90a6-401c-f00c-aa00f8f05428"
      },
      "execution_count": null,
      "outputs": [
        {
          "output_type": "stream",
          "name": "stdout",
          "text": [
            "Wide window\n",
            "Input shape: (32, 24, 6)\n",
            "Labels shape: (32, 24, 1)\n",
            "Output shape: (32, 22, 1)\n"
          ]
        }
      ]
    },
    {
      "cell_type": "code",
      "source": [
        "LABEL_WIDTH = 24\n",
        "INPUT_WIDTH = LABEL_WIDTH + (CONV_WIDTH - 1)\n",
        "wide_conv_window = WindowGenerator(\n",
        "    input_width=INPUT_WIDTH,\n",
        "    label_width=LABEL_WIDTH,\n",
        "    shift=1,\n",
        "    label_columns=['Close'])\n",
        "\n",
        "wide_conv_window"
      ],
      "metadata": {
        "colab": {
          "base_uri": "https://localhost:8080/"
        },
        "id": "5O8a-g5wTsQ9",
        "outputId": "cdfa918e-54dd-4468-84b9-afca94583125"
      },
      "execution_count": null,
      "outputs": [
        {
          "output_type": "execute_result",
          "data": {
            "text/plain": [
              "Total window size: 27\n",
              "Input indices: [ 0  1  2  3  4  5  6  7  8  9 10 11 12 13 14 15 16 17 18 19 20 21 22 23\n",
              " 24 25]\n",
              "Label indices: [ 3  4  5  6  7  8  9 10 11 12 13 14 15 16 17 18 19 20 21 22 23 24 25 26]\n",
              "Label column name(s): ['Close']"
            ]
          },
          "metadata": {},
          "execution_count": 128
        }
      ]
    },
    {
      "cell_type": "code",
      "source": [
        "print(\"Wide conv window\")\n",
        "print('Input shape:', wide_conv_window.example[0].shape)\n",
        "print('Labels shape:', wide_conv_window.example[1].shape)\n",
        "print('Output shape:', conv_model(wide_conv_window.example[0]).shape)"
      ],
      "metadata": {
        "colab": {
          "base_uri": "https://localhost:8080/"
        },
        "id": "PYLi5b6zTw0Y",
        "outputId": "9a42ac51-74cc-4531-ccf0-e14c492278cf"
      },
      "execution_count": null,
      "outputs": [
        {
          "output_type": "stream",
          "name": "stdout",
          "text": [
            "Wide conv window\n",
            "Input shape: (32, 26, 6)\n",
            "Labels shape: (32, 24, 1)\n",
            "Output shape: (32, 24, 1)\n"
          ]
        }
      ]
    },
    {
      "cell_type": "code",
      "source": [
        "wide_conv_window.plot(conv_model)"
      ],
      "metadata": {
        "colab": {
          "base_uri": "https://localhost:8080/",
          "height": 497
        },
        "id": "QD8DXnwfT3RI",
        "outputId": "453ea449-bd24-4046-a0f2-6ad4e942e7f7"
      },
      "execution_count": null,
      "outputs": [
        {
          "output_type": "display_data",
          "data": {
            "text/plain": [
              "<Figure size 864x576 with 3 Axes>"
            ],
            "image/png": "[encoded data removed]"
          },
          "metadata": {
            "needs_background": "light"
          }
        }
      ]
    },
    {
      "cell_type": "code",
      "source": [],
      "metadata": {
        "id": "dSYXTylCT5C6"
      },
      "execution_count": null,
      "outputs": []
    },
    {
      "cell_type": "markdown",
      "source": [
        "RNN LSTM\n"
      ],
      "metadata": {
        "id": "4Rdt_rTyULQn"
      }
    },
    {
      "cell_type": "code",
      "source": [
        "lstm_model = tf.keras.models.Sequential([\n",
        "    # Shape [batch, time, features] => [batch, time, lstm_units]\n",
        "    tf.keras.layers.LSTM(32, return_sequences=True),\n",
        "    # Shape => [batch, time, features]\n",
        "    tf.keras.layers.Dense(units=1)\n",
        "])"
      ],
      "metadata": {
        "id": "9NZKCYSsUNU3"
      },
      "execution_count": null,
      "outputs": []
    },
    {
      "cell_type": "code",
      "source": [
        "print('Input shape:', wide_window.example[0].shape)\n",
        "print('Output shape:', lstm_model(wide_window.example[0]).shape)"
      ],
      "metadata": {
        "colab": {
          "base_uri": "https://localhost:8080/"
        },
        "id": "_DQ6QlpkUPfg",
        "outputId": "53373fb9-c448-42fa-c3b1-43eb2d629f79"
      },
      "execution_count": null,
      "outputs": [
        {
          "output_type": "stream",
          "name": "stdout",
          "text": [
            "Input shape: (32, 24, 6)\n",
            "Output shape: (32, 24, 1)\n"
          ]
        }
      ]
    },
    {
      "cell_type": "code",
      "source": [
        "history = compile_and_fit(lstm_model, wide_window)\n",
        "\n",
        "IPython.display.clear_output()\n",
        "val_performance['LSTM'] = lstm_model.evaluate(wide_window.val)\n",
        "performance['LSTM'] = lstm_model.evaluate(wide_window.test, verbose=0)"
      ],
      "metadata": {
        "colab": {
          "base_uri": "https://localhost:8080/"
        },
        "id": "01LEZEQnUT5W",
        "outputId": "afa53a68-6035-497a-e05b-bed5f2fa382b"
      },
      "execution_count": null,
      "outputs": [
        {
          "output_type": "stream",
          "name": "stdout",
          "text": [
            "5/5 [==============================] - 0s 4ms/step - loss: nan - mean_absolute_error: nan\n"
          ]
        }
      ]
    },
    {
      "cell_type": "code",
      "source": [
        "wide_window.plot(lstm_model)"
      ],
      "metadata": {
        "colab": {
          "base_uri": "https://localhost:8080/",
          "height": 497
        },
        "id": "Q2phUqJ8UYcD",
        "outputId": "fd9aeda3-4874-4d56-853f-a0e8070c52d9"
      },
      "execution_count": null,
      "outputs": [
        {
          "output_type": "display_data",
          "data": {
            "text/plain": [
              "<Figure size 864x576 with 3 Axes>"
            ],
            "image/png": "[encoded data removed]"
          },
          "metadata": {
            "needs_background": "light"
          }
        }
      ]
    },
    {
      "cell_type": "code",
      "source": [
        "x = np.arange(len(performance))\n",
        "width = 0.3\n",
        "metric_name = 'mean_absolute_error'\n",
        "metric_index = lstm_model.metrics_names.index('mean_absolute_error')\n",
        "val_mae = [v[metric_index] for v in val_performance.values()]\n",
        "test_mae = [v[metric_index] for v in performance.values()]\n",
        "\n",
        "plt.ylabel('mean_absolute_error [T (degC), normalized]')\n",
        "plt.bar(x - 0.17, val_mae, width, label='Validation')\n",
        "plt.bar(x + 0.17, test_mae, width, label='Test')\n",
        "plt.xticks(ticks=x, labels=performance.keys(),\n",
        "           rotation=45)\n",
        "_ = plt.legend()"
      ],
      "metadata": {
        "colab": {
          "base_uri": "https://localhost:8080/",
          "height": 322
        },
        "id": "jxB0hV9ZUcNF",
        "outputId": "fb77f073-375b-4365-f36e-31a0e9fc5538"
      },
      "execution_count": null,
      "outputs": [
        {
          "output_type": "display_data",
          "data": {
            "text/plain": [
              "<Figure size 432x288 with 1 Axes>"
            ],
            "image/png": "[encoded data removed]"
          },
          "metadata": {
            "needs_background": "light"
          }
        }
      ]
    },
    {
      "cell_type": "code",
      "source": [
        "for name, value in performance.items():\n",
        "  print(f'{name:12s}: {value[1]:0.4f}')"
      ],
      "metadata": {
        "colab": {
          "base_uri": "https://localhost:8080/"
        },
        "id": "P9VtPF1WUgbp",
        "outputId": "0adacbc0-82d0-43d1-a8de-454008a77da3"
      },
      "execution_count": null,
      "outputs": [
        {
          "output_type": "stream",
          "name": "stdout",
          "text": [
            "Baseline    : 338.7839\n",
            "Linear      : nan\n",
            "Dense       : nan\n",
            "Multi step dense: nan\n",
            "Conv        : nan\n",
            "LSTM        : nan\n"
          ]
        }
      ]
    },
    {
      "cell_type": "code",
      "source": [],
      "metadata": {
        "id": "dOa6jDg6Uj-4"
      },
      "execution_count": null,
      "outputs": []
    },
    {
      "cell_type": "markdown",
      "source": [
        "Multi-output models"
      ],
      "metadata": {
        "id": "KfdqgJdtUwrc"
      }
    },
    {
      "cell_type": "code",
      "source": [
        "single_step_window = WindowGenerator(\n",
        "    # `WindowGenerator` returns all features as labels if you \n",
        "    # don't set the `label_columns` argument.\n",
        "    input_width=1, label_width=1, shift=1)\n",
        "\n",
        "wide_window = WindowGenerator(\n",
        "    input_width=24, label_width=24, shift=1)\n",
        "\n",
        "for example_inputs, example_labels in wide_window.train.take(1):\n",
        "  print(f'Inputs shape (batch, time, features): {example_inputs.shape}')\n",
        "  print(f'Labels shape (batch, time, features): {example_labels.shape}')"
      ],
      "metadata": {
        "colab": {
          "base_uri": "https://localhost:8080/"
        },
        "id": "BxcQrcnoUxT5",
        "outputId": "d307565a-8c64-4506-e02f-8f4633770531"
      },
      "execution_count": null,
      "outputs": [
        {
          "output_type": "stream",
          "name": "stdout",
          "text": [
            "Inputs shape (batch, time, features): (32, 24, 6)\n",
            "Labels shape (batch, time, features): (32, 24, 6)\n"
          ]
        }
      ]
    },
    {
      "cell_type": "code",
      "source": [],
      "metadata": {
        "id": "KoRjZjJSUyli"
      },
      "execution_count": null,
      "outputs": []
    },
    {
      "cell_type": "markdown",
      "source": [
        "Baseline"
      ],
      "metadata": {
        "id": "5KvbXAnZU6zd"
      }
    },
    {
      "cell_type": "code",
      "source": [
        "baseline = Baseline()\n",
        "baseline.compile(loss=tf.keras.losses.MeanSquaredError(),\n",
        "                 metrics=[tf.keras.metrics.MeanAbsoluteError()])"
      ],
      "metadata": {
        "id": "wvO9VpJUU870"
      },
      "execution_count": null,
      "outputs": []
    },
    {
      "cell_type": "code",
      "source": [
        "val_performance = {}\n",
        "performance = {}\n",
        "val_performance['Baseline'] = baseline.evaluate(wide_window.val)\n",
        "performance['Baseline'] = baseline.evaluate(wide_window.test, verbose=0)"
      ],
      "metadata": {
        "colab": {
          "base_uri": "https://localhost:8080/"
        },
        "id": "oJBJ37IYU_AZ",
        "outputId": "8ea49837-629e-4049-dd47-65907ff553b4"
      },
      "execution_count": null,
      "outputs": [
        {
          "output_type": "stream",
          "name": "stdout",
          "text": [
            "5/5 [==============================] - 0s 4ms/step - loss: 91132766181516115968.0000 - mean_absolute_error: 2709888256.0000\n"
          ]
        }
      ]
    },
    {
      "cell_type": "code",
      "source": [
        "Dense"
      ],
      "metadata": {
        "colab": {
          "base_uri": "https://localhost:8080/",
          "height": 166
        },
        "id": "JzC3XQoSVObO",
        "outputId": "c5a3fd21-27d4-4e10-e2f1-b51930041af7"
      },
      "execution_count": null,
      "outputs": [
        {
          "output_type": "error",
          "ename": "NameError",
          "evalue": "ignored",
          "traceback": [
            "\u001b[0;31m---------------------------------------------------------------------------\u001b[0m",
            "\u001b[0;31mNameError\u001b[0m                                 Traceback (most recent call last)",
            "\u001b[0;32m<ipython-input-143-635670cfea46>\u001b[0m in \u001b[0;36m<module>\u001b[0;34m\u001b[0m\n\u001b[0;32m----> 1\u001b[0;31m \u001b[0mDense\u001b[0m\u001b[0;34m\u001b[0m\u001b[0;34m\u001b[0m\u001b[0m\n\u001b[0m",
            "\u001b[0;31mNameError\u001b[0m: name 'Dense' is not defined"
          ]
        }
      ]
    },
    {
      "cell_type": "code",
      "source": [
        "dense = tf.keras.Sequential([\n",
        "    tf.keras.layers.Dense(units=64, activation='relu'),\n",
        "    tf.keras.layers.Dense(units=64, activation='relu'),\n",
        "    tf.keras.layers.Dense(units=num_features)\n",
        "])"
      ],
      "metadata": {
        "id": "5X5hXOv4VCrX"
      },
      "execution_count": null,
      "outputs": []
    },
    {
      "cell_type": "code",
      "source": [
        "history = compile_and_fit(dense, single_step_window)\n",
        "\n",
        "IPython.display.clear_output()\n",
        "val_performance['Dense'] = dense.evaluate(single_step_window.val)\n",
        "performance['Dense'] = dense.evaluate(single_step_window.test, verbose=0)"
      ],
      "metadata": {
        "colab": {
          "base_uri": "https://localhost:8080/"
        },
        "id": "BlumQFGqVF9x",
        "outputId": "b0b548cc-52ec-449e-866a-6314b3452a3e"
      },
      "execution_count": null,
      "outputs": [
        {
          "output_type": "stream",
          "name": "stdout",
          "text": [
            "6/6 [==============================] - 0s 4ms/step - loss: nan - mean_absolute_error: nan\n"
          ]
        }
      ]
    },
    {
      "cell_type": "markdown",
      "source": [
        "RNN"
      ],
      "metadata": {
        "id": "T7QLiYX6VMWW"
      }
    },
    {
      "cell_type": "code",
      "source": [
        "%%time\n",
        "wide_window = WindowGenerator(\n",
        "    input_width=24, label_width=24, shift=1)\n",
        "\n",
        "lstm_model = tf.keras.models.Sequential([\n",
        "    # Shape [batch, time, features] => [batch, time, lstm_units]\n",
        "    tf.keras.layers.LSTM(32, return_sequences=True),\n",
        "    # Shape => [batch, time, features]\n",
        "    tf.keras.layers.Dense(units=num_features)\n",
        "])\n",
        "\n",
        "history = compile_and_fit(lstm_model, wide_window)\n",
        "\n",
        "IPython.display.clear_output()\n",
        "val_performance['LSTM'] = lstm_model.evaluate( wide_window.val)\n",
        "performance['LSTM'] = lstm_model.evaluate( wide_window.test, verbose=0)\n",
        "\n",
        "print()"
      ],
      "metadata": {
        "colab": {
          "base_uri": "https://localhost:8080/"
        },
        "id": "yLOU_6mEVHg2",
        "outputId": "b5f7b99f-c87f-4c4d-e81f-de0a5c834950"
      },
      "execution_count": null,
      "outputs": [
        {
          "output_type": "stream",
          "name": "stdout",
          "text": [
            "5/5 [==============================] - 0s 5ms/step - loss: nan - mean_absolute_error: nan\n",
            "\n",
            "CPU times: user 3.76 s, sys: 127 ms, total: 3.89 s\n",
            "Wall time: 5.74 s\n"
          ]
        }
      ]
    },
    {
      "cell_type": "markdown",
      "source": [
        "Residual connections"
      ],
      "metadata": {
        "id": "FDYOa1AyVrOS"
      }
    },
    {
      "cell_type": "code",
      "source": [
        "class ResidualWrapper(tf.keras.Model):\n",
        "  def __init__(self, model):\n",
        "    super().__init__()\n",
        "    self.model = model\n",
        "\n",
        "  def call(self, inputs, *args, **kwargs):\n",
        "    delta = self.model(inputs, *args, **kwargs)\n",
        "\n",
        "    # The prediction for each time step is the input\n",
        "    # from the previous time step plus the delta\n",
        "    # calculated by the model.\n",
        "    return inputs + delta"
      ],
      "metadata": {
        "id": "l0glSbxtVKck"
      },
      "execution_count": null,
      "outputs": []
    },
    {
      "cell_type": "code",
      "source": [
        "%%time\n",
        "residual_lstm = ResidualWrapper(\n",
        "    tf.keras.Sequential([\n",
        "    tf.keras.layers.LSTM(32, return_sequences=True),\n",
        "    tf.keras.layers.Dense(\n",
        "        num_features,\n",
        "        # The predicted deltas should start small.\n",
        "        # Therefore, initialize the output layer with zeros.\n",
        "        kernel_initializer=tf.initializers.zeros())\n",
        "]))\n",
        "\n",
        "history = compile_and_fit(residual_lstm, wide_window)\n",
        "\n",
        "IPython.display.clear_output()\n",
        "val_performance['Residual LSTM'] = residual_lstm.evaluate(wide_window.val)\n",
        "performance['Residual LSTM'] = residual_lstm.evaluate(wide_window.test, verbose=0)\n",
        "print()"
      ],
      "metadata": {
        "colab": {
          "base_uri": "https://localhost:8080/"
        },
        "id": "wxngoAj3Vtvr",
        "outputId": "3fca75fc-6080-4357-a467-9181affa7915"
      },
      "execution_count": null,
      "outputs": [
        {
          "output_type": "stream",
          "name": "stdout",
          "text": [
            "5/5 [==============================] - 0s 5ms/step - loss: nan - mean_absolute_error: nan\n",
            "\n",
            "CPU times: user 3.52 s, sys: 108 ms, total: 3.63 s\n",
            "Wall time: 4.2 s\n"
          ]
        }
      ]
    },
    {
      "cell_type": "code",
      "source": [
        "x = np.arange(len(performance))\n",
        "width = 0.3\n",
        "\n",
        "metric_name = 'mean_absolute_error'\n",
        "metric_index = lstm_model.metrics_names.index('mean_absolute_error')\n",
        "val_mae = [v[metric_index] for v in val_performance.values()]\n",
        "test_mae = [v[metric_index] for v in performance.values()]\n",
        "\n",
        "plt.bar(x - 0.17, val_mae, width, label='Validation')\n",
        "plt.bar(x + 0.17, test_mae, width, label='Test')\n",
        "plt.xticks(ticks=x, labels=performance.keys(),\n",
        "           rotation=45)\n",
        "plt.ylabel('MAE (average over all outputs)')\n",
        "_ = plt.legend()"
      ],
      "metadata": {
        "colab": {
          "base_uri": "https://localhost:8080/",
          "height": 324
        },
        "id": "XIwcoI1RV0nM",
        "outputId": "dc99e943-a9e2-4c58-fd29-309d91f9835a"
      },
      "execution_count": null,
      "outputs": [
        {
          "output_type": "display_data",
          "data": {
            "text/plain": [
              "<Figure size 432x288 with 1 Axes>"
            ],
            "image/png": "[encoded data removed]"
          },
          "metadata": {
            "needs_background": "light"
          }
        }
      ]
    },
    {
      "cell_type": "code",
      "source": [
        "for name, value in performance.items():\n",
        "  print(f'{name:15s}: {value[1]:0.4f}')"
      ],
      "metadata": {
        "colab": {
          "base_uri": "https://localhost:8080/"
        },
        "id": "-KmtevjzV5y9",
        "outputId": "21acd0a8-da85-4ba2-e2fd-8c33e1a4c972"
      },
      "execution_count": null,
      "outputs": [
        {
          "output_type": "stream",
          "name": "stdout",
          "text": [
            "Baseline       : 1447248512.0000\n",
            "Dense          : nan\n",
            "LSTM           : nan\n",
            "Residual LSTM  : nan\n"
          ]
        }
      ]
    },
    {
      "cell_type": "code",
      "source": [],
      "metadata": {
        "id": "8DrNsNvRV8iz"
      },
      "execution_count": null,
      "outputs": []
    }
  ]
}